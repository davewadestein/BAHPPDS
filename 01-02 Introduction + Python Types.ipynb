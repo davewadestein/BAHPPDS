{
 "cells": [
  {
   "cell_type": "markdown",
   "id": "6a2fedf5-bb53-4105-92d1-ec112689ad90",
   "metadata": {},
   "source": [
    "# What is Python?\n",
    "* general purpose programming language\n",
    "* first released in 1991\n",
    "  * any ideas what programming languages focused on in those days?"
   ]
  },
  {
   "cell_type": "markdown",
   "id": "6bb74e31-e8af-452e-afad-1593c10efeeb",
   "metadata": {},
   "source": [
    "# Recurring Themes\n",
    "* Programming \"Pythonically\"\n",
    "  * What does this mean?\n",
    "* Using AI to be more efficient\n",
    "  * We're going to leverage AI to\n",
    "    * write code for us (but this only makes sense if we understand the code it writes)\n",
    "    * ...explain code we don't understand (but again, we need to have a solid foundation or we won't understand the explanation)\n",
    "   * critique our code\n",
    "* How to get help\n",
    "* Best practices"
   ]
  },
  {
   "cell_type": "code",
   "execution_count": null,
   "id": "2d112fdd-3d61-44e3-b97e-2b32bc18c731",
   "metadata": {},
   "outputs": [],
   "source": []
  },
  {
   "cell_type": "code",
   "execution_count": null,
   "id": "c3d1cb46-c771-475b-9b97-7795118759b0",
   "metadata": {},
   "outputs": [],
   "source": []
  },
  {
   "cell_type": "markdown",
   "id": "caedc97a-25c3-448b-b0aa-df31d547b67b",
   "metadata": {},
   "source": [
    "## Python is a terrible language for numerics\n",
    "* first released in 1991 by [Guido van Rossum](https://en.wikipedia.org/wiki/Guido_van_Rossum)\n",
    "* back then there was...\n",
    "  * no cloud (e.g., Dropbox, AWS, iCloud, etc.)\n",
    "  * no \"big data\"–hard drives were 40-120 MB\n",
    "  * computers were as much as 100,000 times slower than what we have today\n",
    "* but don't worry, we now have NumPy, an add-on to Python that we'll talk about on Day 4"
   ]
  },
  {
   "cell_type": "markdown",
   "id": "b9b392de-480b-4d79-b223-a7ca158aa141",
   "metadata": {},
   "source": [
    "## How to get around in Jupyter:\n",
    "* Each place for you to enter text is called a _cell_\n",
    "* Usually you enter __`Python`__ code, but you can also enter text in a _markup_ language called __`Markdown`__ (that's what's write on in _this_ cell)\n",
    "* To \"run\" the code in the cell, hit __Shift-Return__ (i.e., hold down __Shift__ key, then hit __Return__)\n",
    "* Try it with the cell below..."
   ]
  },
  {
   "cell_type": "code",
   "execution_count": null,
   "id": "31d294e8-48d4-4975-b098-8b88db64c13f",
   "metadata": {},
   "outputs": [],
   "source": [
    "number = 5\n",
    "number"
   ]
  },
  {
   "cell_type": "markdown",
   "id": "662b7ad1-2418-48a4-817b-a66b61073957",
   "metadata": {},
   "source": [
    "* we'll work inside Jupyter notebooks and you'll be able to take them with you as living, breathing documents of your work in this class\n",
    "* the __+__ symbol in the lower toolbar will allow you to add a cell below the current cell\n",
    "* the pulldown menu in the lower toolbar will tell you what kind of cell you are currently in\n",
    "* the __Kernel__ menu will allow you to \"talk\" to the Python interpreter \"under the hood\"\n",
    "  * (when you type into a cell, you are \"talking\" to the web browser, and the web browser sends the text to the __`Python`__ interpreter to be \"run\")\n",
    "  * the __Kernel__ menu will allow you to _restart_ your __`Python`__ interpreter in case something goes wrong and it stops responding to you\n",
    "  "
   ]
  },
  {
   "cell_type": "code",
   "execution_count": null,
   "id": "a2b72489-4646-488e-a33b-4053245c2137",
   "metadata": {},
   "outputs": [],
   "source": []
  },
  {
   "cell_type": "markdown",
   "id": "6e7902f2-e8f0-4c89-9bcd-eecbae4aec8c",
   "metadata": {},
   "source": [
    "## Variables/Types\n",
    "* what are variables?\n",
    "  "
   ]
  },
  {
   "cell_type": "code",
   "execution_count": null,
   "id": "bf539c76-100c-47f3-be3f-dea38de42f00",
   "metadata": {},
   "outputs": [],
   "source": [
    "quantity = 34\n",
    "price = 19.95\n",
    "cost = 11.19"
   ]
  },
  {
   "cell_type": "code",
   "execution_count": null,
   "id": "074126cc-4ab2-42c2-ad55-497e5037a2a7",
   "metadata": {},
   "outputs": [],
   "source": [
    "print(quantity, price, cost) # the \"official\" way to get Python to print something"
   ]
  },
  {
   "cell_type": "code",
   "execution_count": null,
   "id": "e033af68-e0c5-4f06-9459-ec24abf92da9",
   "metadata": {},
   "outputs": [],
   "source": [
    "price # ask Python to evaluate an expression, or \"tell you the value\" of something"
   ]
  },
  {
   "cell_type": "markdown",
   "id": "b55bb7ba-b58f-4bad-b787-66771693b476",
   "metadata": {},
   "source": [
    "* what makes a good/bad variable name?"
   ]
  },
  {
   "cell_type": "code",
   "execution_count": null,
   "id": "58d85979-f36c-4a62-9c6c-0284461dc41e",
   "metadata": {},
   "outputs": [],
   "source": []
  },
  {
   "cell_type": "markdown",
   "id": "ee7a4375-95f8-46c8-846b-9d34afcdd80e",
   "metadata": {},
   "source": [
    "* no declarations–Python is _dynamically typed_"
   ]
  },
  {
   "cell_type": "code",
   "execution_count": null,
   "id": "043e56e3-a255-4163-a2be-896825fb57b1",
   "metadata": {},
   "outputs": [],
   "source": []
  },
  {
   "cell_type": "markdown",
   "id": "e49c472f-0fb7-4053-994e-b799eb58c8bf",
   "metadata": {},
   "source": [
    "* basic data types are __int, float, string, boolean__"
   ]
  },
  {
   "cell_type": "code",
   "execution_count": null,
   "id": "9ccac18c-b1d0-444c-ab6d-ef821409a593",
   "metadata": {},
   "outputs": [],
   "source": []
  },
  {
   "cell_type": "markdown",
   "id": "eac62d35-0a8a-40f8-9ab3-1973bd196df3",
   "metadata": {},
   "source": [
    "* everything is an object (this is a difficult concept we will understand over time)"
   ]
  },
  {
   "cell_type": "code",
   "execution_count": null,
   "id": "e22580a1-443a-4c06-b6c7-71e26de761af",
   "metadata": {},
   "outputs": [],
   "source": []
  },
  {
   "cell_type": "markdown",
   "id": "32878033-95c1-435c-8d7d-dc57aecf8a42",
   "metadata": {},
   "source": [
    "## ...but strongly typed!\n",
    "* that is, you cannot mix types"
   ]
  },
  {
   "cell_type": "code",
   "execution_count": null,
   "id": "e3003856-2beb-4cf6-9141-eeb7ecdf763c",
   "metadata": {},
   "outputs": [],
   "source": [
    "artist = 'Prince'\n",
    "year = 1999\n",
    "artist + year"
   ]
  },
  {
   "cell_type": "code",
   "execution_count": null,
   "id": "072666ae-2d36-4109-ab67-41f674ecff30",
   "metadata": {},
   "outputs": [],
   "source": [
    "artist + str(year)"
   ]
  },
  {
   "cell_type": "code",
   "execution_count": null,
   "id": "c7a22347-b129-438f-b649-57e85db15056",
   "metadata": {},
   "outputs": [],
   "source": []
  },
  {
   "cell_type": "code",
   "execution_count": null,
   "id": "4161cdd9-b164-4d5c-b3c9-561fb4351c51",
   "metadata": {},
   "outputs": [],
   "source": [
    "# Basic datatypes in Python\n",
    "count = 12\n",
    "price = 14.95\n",
    "is_done = True\n",
    "name = 'Guido'\n",
    "print(count, price, is_done, name)"
   ]
  },
  {
   "cell_type": "code",
   "execution_count": null,
   "id": "cbacbdf6-a41c-496a-b5d3-926f96f6d2de",
   "metadata": {},
   "outputs": [],
   "source": []
  },
  {
   "cell_type": "markdown",
   "id": "58ede047-28ef-429e-a4b7-235934aa3dc1",
   "metadata": {},
   "source": [
    "## Some [Builtin Python Functions](https://docs.python.org/3/library/functions.html)"
   ]
  },
  {
   "cell_type": "markdown",
   "id": "2fbd193a-ea1d-4070-8db6-33fc01c9a089",
   "metadata": {},
   "source": [
    "## What's a function?\n",
    "* think of a function as an appliance, e.g.,\n",
    "  * blender\n",
    "  * toaster\n",
    "* a function can...\n",
    "  * take input\n",
    "  * change that input\n",
    "  * produce output\n",
    "* what's the input to a blender?\n",
    "  * what's the output?\n",
    "  * was the input changed?\n"
   ]
  },
  {
   "cell_type": "markdown",
   "id": "f9b2d2bb-28b8-4cbe-9df6-79d4277b8af1",
   "metadata": {},
   "source": [
    "## __`str()`__\n",
    "* \"string-ifies\" whatever is passed as an argument, i.e., returns a string *version*\n",
    "* important to understand that the __`str()`__ function does not alter the object that was passed to it\n",
    "* any object can be string-ified–that is, you can pass any object to the __`str()`__ function and it will work"
   ]
  },
  {
   "cell_type": "code",
   "execution_count": null,
   "id": "9ac02e2c-dca7-414b-91a0-1ee1eb82f6c5",
   "metadata": {},
   "outputs": [],
   "source": [
    "str(1999)"
   ]
  },
  {
   "cell_type": "code",
   "execution_count": null,
   "id": "c0b69220-c88d-494e-a981-37d2aa544aae",
   "metadata": {},
   "outputs": [],
   "source": [
    "str(1.33)"
   ]
  },
  {
   "cell_type": "code",
   "execution_count": null,
   "id": "475d4ea6-0829-4301-85ce-ccd301f6b515",
   "metadata": {},
   "outputs": [],
   "source": [
    "str('a string')"
   ]
  },
  {
   "cell_type": "markdown",
   "id": "07f5529f-4043-4ba4-b7eb-92246bdb3281",
   "metadata": {},
   "source": [
    "## __`int()`__\n",
    "* __int__-ifies whatever is passed as an argument, i.e., returns an int verson\n",
    "* will not always work, cf. __`str()`__"
   ]
  },
  {
   "cell_type": "code",
   "execution_count": null,
   "id": "9a082dcc-ed35-46f8-887b-bff53c9b72ee",
   "metadata": {},
   "outputs": [],
   "source": [
    "value = '503'\n",
    "int(value)"
   ]
  },
  {
   "cell_type": "code",
   "execution_count": null,
   "id": "b53a149b-9273-460f-bb6c-6bb5aa2cb28b",
   "metadata": {},
   "outputs": [],
   "source": [
    "value = '503a'\n",
    "int(value) # will this work?"
   ]
  },
  {
   "cell_type": "code",
   "execution_count": null,
   "id": "50c5f4ea-591a-482c-a498-43bc0e2ebf83",
   "metadata": {},
   "outputs": [],
   "source": [
    "int(13.72)"
   ]
  },
  {
   "cell_type": "markdown",
   "id": "0b2ff964-3163-4608-963d-425cc36b1210",
   "metadata": {},
   "source": [
    "## __`float()`__"
   ]
  },
  {
   "cell_type": "code",
   "execution_count": null,
   "id": "0e63d352-cb04-4006-b5af-e10c44e7af48",
   "metadata": {
    "id": "Rg3r4gtN5_fc"
   },
   "outputs": [],
   "source": [
    "number = 1\n",
    "float(number)"
   ]
  },
  {
   "cell_type": "code",
   "execution_count": null,
   "id": "691ae303-1c27-45fb-a49e-8711a87222ae",
   "metadata": {
    "id": "XN-I04LB5_fc"
   },
   "outputs": [],
   "source": [
    "float('-1.23')"
   ]
  },
  {
   "cell_type": "code",
   "execution_count": null,
   "id": "05979388-2593-4737-9af7-63c8261377f0",
   "metadata": {
    "id": "5SgFet_uQ2np"
   },
   "outputs": [],
   "source": [
    "float('-1.23x') # will this work?"
   ]
  },
  {
   "cell_type": "markdown",
   "id": "c0fba5b1-cca7-4830-862c-3a7deb232dd1",
   "metadata": {
    "id": "-4_mY9ew5_fa"
   },
   "source": [
    "## __`type()`__\n",
    "* returns the type of the object you pass to it"
   ]
  },
  {
   "cell_type": "code",
   "execution_count": null,
   "id": "10d70b36-c01c-4493-b2e4-a9a08adc6a48",
   "metadata": {
    "id": "6AXb-Nd65_fa"
   },
   "outputs": [],
   "source": [
    "value = 1\n",
    "value, type(value) # ok to ask for Python to evaluate *mutiple* values in a single response"
   ]
  },
  {
   "cell_type": "code",
   "execution_count": null,
   "id": "dc40f8fe-59b5-4ca2-aac3-d2b926410214",
   "metadata": {
    "id": "_dq4bMk05_fb"
   },
   "outputs": [],
   "source": [
    "value = value + 0.33 # val += 0.33\n",
    "value, type(value)"
   ]
  },
  {
   "cell_type": "code",
   "execution_count": null,
   "id": "98ccc5a9-7016-40d7-8294-1d77b2442fb3",
   "metadata": {
    "id": "cNtHoJJQ5_fb"
   },
   "outputs": [],
   "source": [
    "type(is_done)"
   ]
  },
  {
   "cell_type": "markdown",
   "id": "ea603c94-4ad2-4aa6-a6a6-05255aa82cd7",
   "metadata": {
    "id": "6TybDRk25_fb"
   },
   "source": [
    "## __`print()`__"
   ]
  },
  {
   "cell_type": "code",
   "execution_count": null,
   "id": "a070557a-9337-4a57-b949-4f5be3c9cf9a",
   "metadata": {
    "id": "NrNz99oz5_fb"
   },
   "outputs": [],
   "source": [
    "name = 'Bruce Lee'\n",
    "print(name)"
   ]
  },
  {
   "cell_type": "code",
   "execution_count": null,
   "id": "c7e6c4ab-65cc-4cbb-a15c-ac22265ce1f9",
   "metadata": {
    "id": "usI47Az15_fb"
   },
   "outputs": [],
   "source": [
    "first_name, middle_name, last_name = 'Taylor', 'Alison', 'Swift' # only do this is variables are related\n",
    "print(first_name, middle_name, last_name)"
   ]
  },
  {
   "cell_type": "code",
   "execution_count": null,
   "id": "03bba2cc-b72a-482d-9ae4-94a6f63fef2c",
   "metadata": {
    "id": "2CMPn95O5_fb"
   },
   "outputs": [],
   "source": [
    "print(first_name, middle_name, last_name, sep='...') # sep is called a \"keyword argument\""
   ]
  },
  {
   "cell_type": "code",
   "execution_count": null,
   "id": "0314a90e-e426-4404-aa1a-8806a2e0cb3a",
   "metadata": {
    "id": "pkBElPyY5_fb",
    "scrolled": true
   },
   "outputs": [],
   "source": [
    "print(last_name, first_name, sep=', ', end=' ')\n",
    "# ... intervening code ...\n",
    "print(middle_name)"
   ]
  },
  {
   "cell_type": "markdown",
   "id": "103873cb-4679-4738-bbd0-09496ee5aaff",
   "metadata": {
    "id": "ldGfwnCn5_fb"
   },
   "source": [
    "# Python Arithmetic\n",
    "* the Python interpreter can perform arithmetic"
   ]
  },
  {
   "cell_type": "code",
   "execution_count": null,
   "id": "f1988ea8-9255-43e7-afa4-dc4ef9ff9b1a",
   "metadata": {
    "id": "1vzP1FBi5_fb"
   },
   "outputs": [],
   "source": [
    "8 / 3"
   ]
  },
  {
   "cell_type": "code",
   "execution_count": null,
   "id": "8884de53-9780-40cf-bd87-4479901fe7f0",
   "metadata": {
    "id": "u7wZerWN5_fb"
   },
   "outputs": [],
   "source": [
    "8 // 3 # \"int\" division"
   ]
  },
  {
   "cell_type": "markdown",
   "id": "97d0f330-6596-42e1-b05b-208a702ae707",
   "metadata": {
    "id": "fALeN5JT5_fb"
   },
   "source": [
    "# div/mod/divmod"
   ]
  },
  {
   "cell_type": "code",
   "execution_count": null,
   "id": "a7915128-24a1-44eb-9e54-1eaa5b7ba8fa",
   "metadata": {
    "id": "WP3IC-OZ5_fc"
   },
   "outputs": [],
   "source": [
    "23 // 4 # \"quotient\""
   ]
  },
  {
   "cell_type": "code",
   "execution_count": null,
   "id": "5c0165d0-1b78-4126-9e4e-c981b206ba02",
   "metadata": {
    "id": "VM2xlJBr5_fc"
   },
   "outputs": [],
   "source": [
    "23 % 4 # remainder (modulus) when dividing 23 by 4"
   ]
  },
  {
   "cell_type": "code",
   "execution_count": null,
   "id": "eefaf09a-c0db-4605-bc68-5bd1dcc5edb1",
   "metadata": {
    "id": "KyEf1B0I5_fc"
   },
   "outputs": [],
   "source": [
    "divmod(23, 4) # Python functions can and often do return multiple values"
   ]
  },
  {
   "cell_type": "code",
   "execution_count": null,
   "id": "5ccd1978-7fea-4a25-b975-6ac46fc0f76d",
   "metadata": {
    "id": "baFB1pE65_fc"
   },
   "outputs": [],
   "source": [
    "quotient, remainder = divmod(23, 4) # how many things does divmod() return?\n",
    "print(quotient)\n",
    "print(remainder)"
   ]
  },
  {
   "cell_type": "markdown",
   "id": "7e9a51c4-0b69-4aec-b571-3394d3e4fa3c",
   "metadata": {
    "id": "N_QzLEXu5_fc"
   },
   "source": [
    "# Strings"
   ]
  },
  {
   "cell_type": "markdown",
   "id": "1590c04e-98cb-4c15-8c37-05fee5751b5f",
   "metadata": {
    "id": "qn-zYsy-5_fd"
   },
   "source": [
    "## Strings\n",
    "* \"strings\" are nothing more than text surrounded by quotes\n",
    "* you may use single or double quotes\n",
    "* you rarely need it, but `\\` lets you escape the next character, i.e., avoid its usual meaning\n",
    "* string operators: __`+, *`__"
   ]
  },
  {
   "cell_type": "code",
   "execution_count": null,
   "id": "081bfc57-7222-4391-a44f-cb25a3e5e90c",
   "metadata": {
    "id": "QAEGzprh5_fd"
   },
   "outputs": [],
   "source": [
    "string1 = \"This string isn't a problem\"\n",
    "string1"
   ]
  },
  {
   "cell_type": "code",
   "execution_count": null,
   "id": "8d452f56-240e-4c62-a67e-6c5d65b30df3",
   "metadata": {
    "id": "A1Sc__-B5_fd"
   },
   "outputs": [],
   "source": [
    "string2 = 'This string is a \"good\" example'\n",
    "string2"
   ]
  },
  {
   "cell_type": "code",
   "execution_count": null,
   "id": "d2fb7063-2847-4cb2-b9e2-310683d0fe8e",
   "metadata": {
    "id": "9CR2sRWd5_fd"
   },
   "outputs": [],
   "source": [
    "string3 = 'This string isn\\'t \"more difficult\" to read'\n",
    "print(string3)"
   ]
  },
  {
   "cell_type": "markdown",
   "id": "00abb38e-d399-4c31-b9a3-84cab66e1ea8",
   "metadata": {
    "id": "l7F9EwJe5_fd"
   },
   "source": [
    "* __`+`__ = concatenation operator\n",
    "* __`*`__ = duplication operator"
   ]
  },
  {
   "cell_type": "code",
   "execution_count": null,
   "id": "c4803701-657f-4e71-85b4-9723d6a6f81d",
   "metadata": {
    "id": "aRT01wTK5_fd"
   },
   "outputs": [],
   "source": [
    "s, t = \"hello\", 'bye' # bad practice in THREE ways\n",
    "print(s + t)"
   ]
  },
  {
   "cell_type": "code",
   "execution_count": null,
   "id": "5019ea94-0b53-4df5-9ca0-daefa6a7c08b",
   "metadata": {
    "id": "CJKSQZ8R5_fd"
   },
   "outputs": [],
   "source": [
    "print(s, t)"
   ]
  },
  {
   "cell_type": "code",
   "execution_count": null,
   "id": "0dd28e4f-7530-4316-9cd5-7fb8ccc61182",
   "metadata": {
    "id": "cu0Brs0o5_fd"
   },
   "outputs": [],
   "source": [
    "s * 4"
   ]
  },
  {
   "cell_type": "code",
   "execution_count": null,
   "id": "aee5355e-c3af-45d1-a5e0-cda5d675a0b2",
   "metadata": {
    "id": "J6z7U-au5_fd"
   },
   "outputs": [],
   "source": [
    "print('0123456789' * 8)\n",
    "print('-' * 80)"
   ]
  },
  {
   "cell_type": "markdown",
   "id": "7273d0b0-8dff-40d0-889b-ce5c1524ad1d",
   "metadata": {
    "id": "zrEDku-Y5_fd"
   },
   "source": [
    "## Multi-Line Strings\n",
    "* triple quotes allow for easy multi-line strings (i.e., strings that span multiple lines)"
   ]
  },
  {
   "cell_type": "code",
   "execution_count": null,
   "id": "51ecfe9a-8317-4f5c-8a9d-179789715bd8",
   "metadata": {
    "id": "wkOOcfRo5_fd"
   },
   "outputs": [],
   "source": [
    "s = \"\"\"\n",
    "This a\n",
    "multi-line string!\n",
    "\n",
    "(there is a carriage return or \"newline\" at\n",
    "the beginning and end of this string, and at\n",
    "end of each line)\n",
    "\"\"\"\n",
    "\n",
    "print(s)"
   ]
  },
  {
   "cell_type": "markdown",
   "id": "e477e78e-b98f-48d9-b93a-d855c6bded52",
   "metadata": {
    "id": "SZZ8NKmg5_fd",
    "jp-MarkdownHeadingCollapsed": true
   },
   "source": [
    "## Exercise: Strings\n",
    "* after typing this in...\n",
    "\n",
    "<pre><b>a, b, o, p = 'b', 'a', 'p', 'o'\n",
    "</pre>\n",
    "\n",
    "<pre><b>What will be the result of these expressions?\n",
    "\n",
    "(Type them in and see, but first, think about what you expect the result to be)\n",
    "o + p + o\n",
    "a * 3 + b\n",
    "a + p * 2 + 'k' * 2 + 'e' * 2 + o + 'er'\n"
   ]
  },
  {
   "cell_type": "markdown",
   "id": "59e0363d-b7be-430a-901a-ad9d181fd59e",
   "metadata": {
    "id": "Y3OrerQK5_fd"
   },
   "source": [
    "## __`len()`__\n",
    "* returns the length of a string\n",
    "  * (or more correctly returns the length/size of any \"container\")"
   ]
  },
  {
   "cell_type": "code",
   "execution_count": null,
   "id": "11eb5c5f-74a9-41e9-b254-cf18a0b835f9",
   "metadata": {
    "id": "6Flk024_5_fd"
   },
   "outputs": [],
   "source": [
    "name = 'Prince'\n",
    "len(name)"
   ]
  },
  {
   "cell_type": "code",
   "execution_count": null,
   "id": "995119d1-5807-4572-92c1-6043c41d0d84",
   "metadata": {
    "id": "h_uGrC0x5_fd"
   },
   "outputs": [],
   "source": [
    "len('')"
   ]
  },
  {
   "cell_type": "code",
   "execution_count": null,
   "id": "553e1c46-b28c-496b-91bf-dd9174b50978",
   "metadata": {
    "id": "u1hDG7qb5_fe"
   },
   "outputs": [],
   "source": [
    "len(name * 5)"
   ]
  },
  {
   "cell_type": "markdown",
   "id": "9bdce9d7-fba3-4332-824f-5751a4ff1111",
   "metadata": {
    "id": "9jKkcMwS5_fe"
   },
   "source": [
    "## Indexing Strings with __`[]`__\n",
    "* access a single character via its offset\n",
    "* easier to think of offset as opposed to index\n",
    "* negative offsets count from end of string"
   ]
  },
  {
   "cell_type": "code",
   "execution_count": null,
   "id": "94ac5b2f-b586-47f2-ab76-a8937aa23455",
   "metadata": {
    "id": "0td3D-Kg5_fe"
   },
   "outputs": [],
   "source": [
    "alphabet = 'abcdefghijklmnopqrstuvwxyz'\n",
    "         #  01234567890123456789012345\n",
    "         #                         321-"
   ]
  },
  {
   "cell_type": "code",
   "execution_count": null,
   "id": "351070a4-404a-4362-b9a5-829b7a6a2ea6",
   "metadata": {
    "id": "W344MnXB5_fe"
   },
   "outputs": [],
   "source": [
    "alphabet[0] # \"alphabet of 0\""
   ]
  },
  {
   "cell_type": "code",
   "execution_count": null,
   "id": "2706be7f-31f0-4599-a01c-35e877221c79",
   "metadata": {
    "id": "F6l8LRHC5_fe"
   },
   "outputs": [],
   "source": [
    "alphabet[23] # len(alphabet)-3"
   ]
  },
  {
   "cell_type": "code",
   "execution_count": null,
   "id": "edf4ccf9-a458-4231-a45e-267dcd01755d",
   "metadata": {
    "id": "qMHPYn7k5_fe"
   },
   "outputs": [],
   "source": [
    "alphabet[-1] # idiomatic"
   ]
  },
  {
   "cell_type": "markdown",
   "id": "72ab1b87-aef1-436d-b7e3-7378d61b8e1d",
   "metadata": {
    "id": "RVqMAxFY5_fg"
   },
   "source": [
    "## Slices\n",
    "* __`[start:stop:step]`__\n",
    "* extracts the substring from __`start`__ to __`stop`__ _minus 1_, skipping __`step`__ characters at a time\n",
    "* each of the st... are optional"
   ]
  },
  {
   "cell_type": "code",
   "execution_count": null,
   "id": "42ca09e8-62a0-4bdb-9183-e14258c2294d",
   "metadata": {
    "id": "-DvSKzI_5_fg"
   },
   "outputs": [],
   "source": [
    "alphabet = 'abcdefghijklmnopqrstuvwxyz'\n",
    "         #  01234567890123456789012345\n",
    "         #                         321-"
   ]
  },
  {
   "cell_type": "code",
   "execution_count": null,
   "id": "942e4f0c-95c2-4c55-87a7-cfc65528a4aa",
   "metadata": {
    "colab": {
     "base_uri": "https://localhost:8080/",
     "height": 35
    },
    "id": "Ek0NrjeH5_fg",
    "outputId": "7fa061e3-42df-4a4d-e76e-3b3e1b0ab200"
   },
   "outputs": [],
   "source": [
    "alphabet[10:15]"
   ]
  },
  {
   "cell_type": "code",
   "execution_count": null,
   "id": "3edcb796-1577-40d7-bb24-636069969707",
   "metadata": {
    "colab": {
     "base_uri": "https://localhost:8080/",
     "height": 35
    },
    "id": "HxS3UTt35_fg",
    "outputId": "80f0d4e2-a5ec-4d8b-a88e-f1c479d51ccf"
   },
   "outputs": [],
   "source": [
    "alphabet[:5] # first 5 chars"
   ]
  },
  {
   "cell_type": "code",
   "execution_count": null,
   "id": "fcfd3b43-59bb-4889-8086-82cef96d3b74",
   "metadata": {
    "colab": {
     "base_uri": "https://localhost:8080/",
     "height": 35
    },
    "id": "XgWuKItU5_fg",
    "outputId": "ca24798d-ca8c-4495-b199-73da4fb2291b"
   },
   "outputs": [],
   "source": [
    "alphabet[23:]"
   ]
  },
  {
   "cell_type": "code",
   "execution_count": null,
   "id": "c9efb55d-1eda-46c1-9318-823dd63ba68d",
   "metadata": {
    "colab": {
     "base_uri": "https://localhost:8080/",
     "height": 35
    },
    "id": "Uldse7u75_fg",
    "outputId": "a7183564-73b6-43dc-ae0c-d1fa029abd52"
   },
   "outputs": [],
   "source": [
    "alphabet[3:23:3]"
   ]
  },
  {
   "cell_type": "code",
   "execution_count": null,
   "id": "f1ea8a83-38eb-4a2a-87e0-7b777fae12f5",
   "metadata": {
    "colab": {
     "base_uri": "https://localhost:8080/",
     "height": 35
    },
    "id": "Zs3-PEF65_fg",
    "outputId": "ea37626e-93e6-4f6c-863d-60155d8eb551"
   },
   "outputs": [],
   "source": [
    "alphabet[10:2:-1]"
   ]
  },
  {
   "cell_type": "code",
   "execution_count": null,
   "id": "2e239412-2f2a-4f31-bf5d-99ec30f3d60d",
   "metadata": {
    "colab": {
     "base_uri": "https://localhost:8080/",
     "height": 35
    },
    "id": "Y1F5VlVm5_fg",
    "outputId": "a2745b51-c5cc-4381-b8a9-319031dc03bc"
   },
   "outputs": [],
   "source": [
    "alphabet[-3:]"
   ]
  },
  {
   "cell_type": "code",
   "execution_count": null,
   "id": "b6127c6a-17b0-40aa-9d73-a04838e7c73e",
   "metadata": {
    "colab": {
     "base_uri": "https://localhost:8080/",
     "height": 35
    },
    "id": "aEQqV8l85_fg",
    "outputId": "c8b7fb81-d873-4ab3-9362-54ebb2c11d57"
   },
   "outputs": [],
   "source": [
    "alphabet[::-1]"
   ]
  },
  {
   "cell_type": "markdown",
   "id": "d978218f-f9e7-4fb1-bb72-68cc251b60d5",
   "metadata": {
    "id": "rp6dFn2y5_fg"
   },
   "source": [
    "## More String Functions (Methods)\n",
    "* \"methods\" are functions which are specific to a given datatype (e.g., string functions)\n",
    "* methods are called using a new syntax"
   ]
  },
  {
   "cell_type": "code",
   "execution_count": null,
   "id": "975e330b-b3a6-430e-bce1-829956cb16d5",
   "metadata": {
    "id": "Q9GnnNr65_fg"
   },
   "outputs": [],
   "source": [
    "poem = \"\"\"TWO roads diverged in a yellow wood,\n",
    "And sorry I could not travel both\n",
    "And be one traveler, long I stood\n",
    "And looked down one as far as I could\n",
    "To where it bent in the undergrowth;\n",
    "\n",
    "Then took the other, as just as fair,\n",
    "And having perhaps the better claim,\n",
    "Because it was grassy and wanted wear;\n",
    "Though as for that the passing there\n",
    "Had worn them really about the same,\n",
    "\n",
    "And both that morning equally lay\n",
    "In leaves no step had trodden black.\n",
    "Oh, I kept the first for another day!\n",
    "Yet knowing how way leads on to way,\n",
    "I doubted if I should ever come back.\n",
    "\n",
    "I shall be telling this with a sigh\n",
    "Somewhere ages and ages hence:\n",
    "Two roads diverged in a wood, and I—\n",
    "I took the one less traveled by,\n",
    "And that has made all the difference.\"\"\""
   ]
  },
  {
   "cell_type": "code",
   "execution_count": null,
   "id": "3449cfb4-066d-4614-9088-e55252e08e74",
   "metadata": {
    "colab": {
     "base_uri": "https://localhost:8080/"
    },
    "id": "BUpfAIz55_fg",
    "outputId": "97dae01b-0b9c-40fa-a6ef-e2684ed606a7"
   },
   "outputs": [],
   "source": [
    "len(poem) # built-in function"
   ]
  },
  {
   "cell_type": "code",
   "execution_count": null,
   "id": "032e61fd-9156-4584-9f00-25dfaaef43f8",
   "metadata": {
    "colab": {
     "base_uri": "https://localhost:8080/",
     "height": 35
    },
    "id": "HSdO6_775_fg",
    "outputId": "c8955864-aa37-43ba-9d14-976f3b83d224"
   },
   "outputs": [],
   "source": [
    "poem[:17] # quick slicing review"
   ]
  },
  {
   "cell_type": "code",
   "execution_count": null,
   "id": "9472fa90-6be7-44e3-b4d3-5044e35d4acd",
   "metadata": {
    "colab": {
     "base_uri": "https://localhost:8080/"
    },
    "id": "p-6WjSOe5_fg",
    "outputId": "99edbdaa-ea06-4739-b598-5bc32b69a1b7"
   },
   "outputs": [],
   "source": [
    "poem.startswith('TWO') # startswith is a function...a \"method\"\n",
    "# NOTE: we do NOT write: startswith(poem, 'TWO')"
   ]
  },
  {
   "cell_type": "code",
   "execution_count": null,
   "id": "c5cca03b-eb4e-457c-93c2-0bde9f59ce27",
   "metadata": {
    "colab": {
     "base_uri": "https://localhost:8080/"
    },
    "id": "4qKDWIa25_fg",
    "outputId": "431dbf3c-9f7e-46d1-d712-3afdb65a0601"
   },
   "outputs": [],
   "source": [
    "poem.endswith('And miles to go before I sleep.')"
   ]
  },
  {
   "cell_type": "code",
   "execution_count": null,
   "id": "cfebda85-a35b-47f7-a200-d3f505c0427d",
   "metadata": {
    "colab": {
     "base_uri": "https://localhost:8080/"
    },
    "id": "X9RMQtD75_fg",
    "outputId": "3a29ba1f-74ef-4e6f-b31a-2b4e9062b970"
   },
   "outputs": [],
   "source": [
    "poem.find('the')"
   ]
  },
  {
   "cell_type": "code",
   "execution_count": null,
   "id": "0733e118-2c99-47a8-aa33-ef0f71a8c52a",
   "metadata": {
    "colab": {
     "base_uri": "https://localhost:8080/",
     "height": 35
    },
    "id": "YLQrSxHG5_fh",
    "outputId": "d8d77973-ccfa-48c8-d73c-1ae1c9e24bd3"
   },
   "outputs": [],
   "source": [
    "poem[163:178] # how long is this slice?"
   ]
  },
  {
   "cell_type": "code",
   "execution_count": null,
   "id": "e01d650a-c021-456c-ba59-11926e81d1bb",
   "metadata": {
    "colab": {
     "base_uri": "https://localhost:8080/"
    },
    "id": "-OQ603zZ5_fh",
    "outputId": "9b21ebff-a385-4134-c1f0-ab2140d8a0dc"
   },
   "outputs": [],
   "source": [
    "poem.rfind('the')"
   ]
  },
  {
   "cell_type": "code",
   "execution_count": null,
   "id": "aa1b25c0-8a60-4435-80e1-0697888454f8",
   "metadata": {
    "colab": {
     "base_uri": "https://localhost:8080/"
    },
    "id": "IE4eVki65_fh",
    "outputId": "f1ffbfc7-7be1-436c-c47f-4f12e73e92df"
   },
   "outputs": [],
   "source": [
    "poem.count('the')"
   ]
  },
  {
   "cell_type": "markdown",
   "id": "530524c9-5606-453c-8352-468649af0709",
   "metadata": {
    "id": "BFQc9tNs5_fh"
   },
   "source": [
    "## __`strip()`__"
   ]
  },
  {
   "cell_type": "code",
   "execution_count": null,
   "id": "21e72549-56b4-4eec-b703-1505e8ae92ff",
   "metadata": {
    "colab": {
     "base_uri": "https://localhost:8080/",
     "height": 35
    },
    "id": "rR09gl015_fh",
    "outputId": "af8dab55-1dcc-4318-c478-2e0db9ba0c66"
   },
   "outputs": [],
   "source": [
    "s = '  \\t\\t\\t \\n\\n  Now is the time   '\n",
    "s.strip() # generates a new string in which leading/trailing..."
   ]
  },
  {
   "cell_type": "code",
   "execution_count": null,
   "id": "300a51bb-0fca-44a6-9a97-1c8b9c84a083",
   "metadata": {
    "colab": {
     "base_uri": "https://localhost:8080/",
     "height": 35
    },
    "id": "Pua9ahRa5_fh",
    "outputId": "3e6d4912-47b6-4d1e-f68e-324b2a02dd65"
   },
   "outputs": [],
   "source": [
    "s"
   ]
  },
  {
   "cell_type": "code",
   "execution_count": null,
   "id": "0c5c806c-026c-4d01-9020-c3035f64a530",
   "metadata": {
    "id": "VTukbHIn5_fh"
   },
   "outputs": [],
   "source": [
    "s = s.strip()"
   ]
  },
  {
   "cell_type": "code",
   "execution_count": null,
   "id": "adb99122-6601-43ef-bd00-b00a6920d455",
   "metadata": {
    "colab": {
     "base_uri": "https://localhost:8080/",
     "height": 35
    },
    "id": "QR7ipjnh5_fh",
    "outputId": "4cac883c-3cc1-4b73-ba84-4755767d4704"
   },
   "outputs": [],
   "source": [
    "s"
   ]
  },
  {
   "cell_type": "code",
   "execution_count": null,
   "id": "f746dda2-b8a5-466e-8cc0-23608d8ab308",
   "metadata": {
    "colab": {
     "base_uri": "https://localhost:8080/",
     "height": 35
    },
    "id": "Gdf_aosx5_fh",
    "outputId": "b3712008-094a-44d6-b5c7-5f3d8ec8bfb3"
   },
   "outputs": [],
   "source": [
    "s = '.' + s + '...'\n",
    "s"
   ]
  },
  {
   "cell_type": "code",
   "execution_count": null,
   "id": "8c7678c3-685c-459d-aeef-823f2d8e4614",
   "metadata": {
    "colab": {
     "base_uri": "https://localhost:8080/",
     "height": 35
    },
    "id": "ZAF4fAjY5_fh",
    "outputId": "a8c53cb8-a025-4a75-e392-9fdcc876a18f"
   },
   "outputs": [],
   "source": [
    "s.strip('.')"
   ]
  },
  {
   "cell_type": "markdown",
   "id": "4d5c86bd-718e-4c6c-9f41-532c00a8d372",
   "metadata": {
    "id": "TcUaGkfl5_fh"
   },
   "source": [
    "## Even More String Functions (Methods)..."
   ]
  },
  {
   "cell_type": "code",
   "execution_count": null,
   "id": "9e79062b-1031-4f17-9824-159ad040002b",
   "metadata": {
    "colab": {
     "base_uri": "https://localhost:8080/",
     "height": 35
    },
    "id": "ocZm_Woj5_fh",
    "outputId": "cb525cb2-ad20-4745-b85b-74c8f05023d2"
   },
   "outputs": [],
   "source": [
    "s = 'now IS the time'\n",
    "s.capitalize()"
   ]
  },
  {
   "cell_type": "code",
   "execution_count": null,
   "id": "65b54870-5d90-48db-865f-4a09c138144e",
   "metadata": {
    "colab": {
     "base_uri": "https://localhost:8080/",
     "height": 35
    },
    "id": "ttSz9aKj5_fh",
    "outputId": "44d1298d-368e-42e4-aeb5-02c8a8576712"
   },
   "outputs": [],
   "source": [
    "s.title()"
   ]
  },
  {
   "cell_type": "code",
   "execution_count": null,
   "id": "151815ca-e709-4d9f-9a88-d1ee72f669e3",
   "metadata": {
    "colab": {
     "base_uri": "https://localhost:8080/",
     "height": 35
    },
    "id": "EYBs1ldu5_fh",
    "outputId": "e71d7119-3900-45c4-dd15-e6857cfe2f3a"
   },
   "outputs": [],
   "source": [
    "s.upper()"
   ]
  },
  {
   "cell_type": "code",
   "execution_count": null,
   "id": "93a708c5-06c5-463e-a1a6-24199a8e4013",
   "metadata": {
    "colab": {
     "base_uri": "https://localhost:8080/",
     "height": 35
    },
    "id": "DpesNOjt5_fh",
    "outputId": "e397d3ad-fc59-4544-e12f-7c1c3b5429b2"
   },
   "outputs": [],
   "source": [
    "s.lower()"
   ]
  },
  {
   "cell_type": "code",
   "execution_count": null,
   "id": "c1bca7b3-8881-44a1-bf52-fdcbc4fbb982",
   "metadata": {
    "colab": {
     "base_uri": "https://localhost:8080/",
     "height": 35
    },
    "id": "YIPLYaeX5_fh",
    "outputId": "7d20e40a-cc6b-414a-9e9f-69c670bfc9c5"
   },
   "outputs": [],
   "source": [
    "s.replace('the', 'not the') # be careful of the naming"
   ]
  },
  {
   "cell_type": "code",
   "execution_count": null,
   "id": "2aba5fbb-2175-4e1b-b384-d8f833b318cc",
   "metadata": {
    "colab": {
     "base_uri": "https://localhost:8080/",
     "height": 35
    },
    "id": "BbDxuN9M5_fh",
    "outputId": "321add05-63e4-46d1-f66b-d204a3fa49ed"
   },
   "outputs": [],
   "source": [
    "s.replace('t', 'T')"
   ]
  },
  {
   "cell_type": "markdown",
   "id": "7ebf4991-eaf0-4189-a87d-3acb33c45ae2",
   "metadata": {},
   "source": [
    "## Quick Labs\n",
    "1. Write a program that reads a word and prints its first and last letters\n",
    "<pre>\n",
    "    Input: banana\n",
    "    Output:\n",
    "        First letter: b\n",
    "        Last letter: a\n",
    "</pre>\n",
    "2. Write a program that prints every second character of a word\n",
    "<pre>\n",
    "     Input: Python\n",
    "    Output: Pto\n",
    "</pre>\n",
    "\n",
    "3. Write a program that prints the first half and second half of a word separately. (Hint: use __`len()`__ to find the middle index)\n",
    "\n",
    "<pre>\n",
    "     Input: strawberry\n",
    "    Output: \n",
    "         First half: straw\n",
    "        Second half: berry\n",
    "</pre>"
   ]
  },
  {
   "cell_type": "markdown",
   "id": "a419a64f-1861-4ada-9da4-9d76431c8aae",
   "metadata": {},
   "source": [
    "## Dates and Times\n",
    "* Python gives you an easy way to work with dates and times"
   ]
  },
  {
   "cell_type": "code",
   "execution_count": null,
   "id": "3c48375e-fcc8-4ea6-9a9b-765bbe963405",
   "metadata": {},
   "outputs": [],
   "source": [
    "import datetime # import the module before you can use it!\n",
    "now = datetime.datetime.now() # get the current date/time and store it\n",
    "print(now)"
   ]
  },
  {
   "cell_type": "code",
   "execution_count": null,
   "id": "1e171af6-81a8-4ba3-b79e-b41c5bba3b34",
   "metadata": {},
   "outputs": [],
   "source": [
    "print(now.date()) # get just the date using a METHOD"
   ]
  },
  {
   "cell_type": "code",
   "execution_count": null,
   "id": "9f0a0efc-662f-4ea3-a6ff-9f8831f7e352",
   "metadata": {},
   "outputs": [],
   "source": [
    "print(now.time()) # ...or just the time using a METHOD"
   ]
  },
  {
   "cell_type": "code",
   "execution_count": null,
   "id": "fa0e85e8-984a-4cd6-b631-94ab891d4113",
   "metadata": {},
   "outputs": [],
   "source": [
    "now.year # we are not calling a method (function) here...instead, year is an \"attribute\""
   ]
  },
  {
   "cell_type": "code",
   "execution_count": null,
   "id": "f25b1ff5-a7bb-4b37-9a71-6bffc8a28804",
   "metadata": {},
   "outputs": [],
   "source": [
    "now.month # month is also an attribute"
   ]
  },
  {
   "cell_type": "code",
   "execution_count": null,
   "id": "29bd801b-8a36-4366-8caa-814726d4970d",
   "metadata": {},
   "outputs": [],
   "source": [
    "now.day # and so is day"
   ]
  },
  {
   "cell_type": "code",
   "execution_count": null,
   "id": "36f81e2a-8bda-40fd-a7ad-e8a7cfb043de",
   "metadata": {},
   "outputs": [],
   "source": [
    "print(now.strftime('%A')) # strftime is a method for formatting dates"
   ]
  },
  {
   "cell_type": "markdown",
   "id": "4098401a-04f2-4c77-8f1e-070f1a5e8597",
   "metadata": {},
   "source": [
    "* more examples can be found [here](https://strftime.org/)"
   ]
  },
  {
   "cell_type": "markdown",
   "id": "44c54d77-1da2-434d-982f-e68d47d1ee37",
   "metadata": {
    "id": "-NbV0nag5_fe"
   },
   "source": [
    "# Let's run a small program in the notebook...and then run it outside of the notebook"
   ]
  },
  {
   "cell_type": "code",
   "execution_count": null,
   "id": "abb896cd-4634-424e-b98d-af23e876a683",
   "metadata": {
    "id": "wq1-czN55_fe"
   },
   "outputs": [],
   "source": [
    "name = input('Enter your name: ')\n",
    "print('You entered', name)"
   ]
  },
  {
   "cell_type": "markdown",
   "id": "77f27c2b-21c5-4bea-bfed-636ef3e0f3d5",
   "metadata": {
    "id": "d3fFuj8N5_fe"
   },
   "source": [
    "## Lab: putting our Python code in a file\n",
    "* it's important to understand how to create Python code outside of a notebook\n",
    "* we can use Jupyter or Visual Studio Code to create a new Python file"
   ]
  },
  {
   "cell_type": "code",
   "execution_count": null,
   "id": "a214f5db-e304-45e6-a9b4-0ddac47763da",
   "metadata": {},
   "outputs": [],
   "source": []
  }
 ],
 "metadata": {
  "kernelspec": {
   "display_name": "Python 3 (ipykernel)",
   "language": "python",
   "name": "python3"
  },
  "language_info": {
   "codemirror_mode": {
    "name": "ipython",
    "version": 3
   },
   "file_extension": ".py",
   "mimetype": "text/x-python",
   "name": "python",
   "nbconvert_exporter": "python",
   "pygments_lexer": "ipython3",
   "version": "3.13.5"
  }
 },
 "nbformat": 4,
 "nbformat_minor": 5
}

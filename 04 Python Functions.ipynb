{
 "cells": [
  {
   "cell_type": "markdown",
   "id": "0c42a870-f31e-4ebe-b8cb-b12511e4b272",
   "metadata": {},
   "source": [
    "# Python Functions\n",
    "* We're already familiar with the [built-in Python functions](https://docs.python.org/3/library/functions.html)\n",
    "* Now let's consider how to create our own functions\n",
    "* What's a function again?"
   ]
  },
  {
   "cell_type": "code",
   "execution_count": null,
   "id": "9a06618c-e11d-4f9b-ae70-2cc3117e1602",
   "metadata": {},
   "outputs": [],
   "source": []
  },
  {
   "cell_type": "code",
   "execution_count": null,
   "id": "9685364b-6a3b-4d3c-a766-2efd6b632c23",
   "metadata": {},
   "outputs": [],
   "source": []
  },
  {
   "cell_type": "markdown",
   "id": "5c4b0db9-58d2-4c6b-a527-f10b3dfdac50",
   "metadata": {
    "id": "2SFPtbYxrWjn"
   },
   "source": [
    "## Functions\n",
    "* __`def`__ introduces a function\n",
    "  * followed by function name, parenthesized list of args and then a colon\n",
    "* body of function is indented"
   ]
  },
  {
   "cell_type": "code",
   "execution_count": null,
   "id": "2fa1d529-541b-452e-bd0f-7ab06e4d2222",
   "metadata": {
    "id": "MOXUTJ7WrWjn"
   },
   "outputs": [],
   "source": [
    "# a \"do nothing\" function\n",
    "def noop():\n",
    "    pass # Python statement that does nothing"
   ]
  },
  {
   "cell_type": "code",
   "execution_count": null,
   "id": "3de91391-de54-4256-9676-9828a9c676b4",
   "metadata": {
    "id": "30_i2VRrrWjo"
   },
   "outputs": [],
   "source": [
    "noop()"
   ]
  },
  {
   "cell_type": "code",
   "execution_count": null,
   "id": "4481f117-e940-48c4-b66e-3fd26682f175",
   "metadata": {
    "id": "vfdwJr2lrWjo"
   },
   "outputs": [],
   "source": [
    "noop(1, 3, 5) # number of arguments needs to be correct!"
   ]
  },
  {
   "cell_type": "code",
   "execution_count": null,
   "id": "2eb5e752-9477-4716-8819-64d0fde3b1d8",
   "metadata": {
    "id": "uC9P94ttrWjo"
   },
   "outputs": [],
   "source": [
    "# Silly function which does not return anything, but rather, prints something\n",
    "# based on the value of its argument\n",
    "def simpfunc(thing):\n",
    "    if thing == 1:\n",
    "        print('Hey, 1')\n",
    "    elif thing < 10:\n",
    "        print('< 10 and not 1')\n",
    "    else:\n",
    "        print('>= 10')"
   ]
  },
  {
   "cell_type": "code",
   "execution_count": null,
   "id": "45a38537-6c21-49b5-978a-bf6a613e84c6",
   "metadata": {
    "colab": {
     "base_uri": "https://localhost:8080/"
    },
    "id": "vzhwS5iYrWjo",
    "outputId": "3a947524-18dd-4a8f-e197-9825928bcb8c"
   },
   "outputs": [],
   "source": [
    "simpfunc(1)"
   ]
  },
  {
   "cell_type": "code",
   "execution_count": null,
   "id": "f76030f5-396e-4544-a7ef-0a3c583bb429",
   "metadata": {
    "id": "K7CI3P0VrWjo"
   },
   "outputs": [],
   "source": [
    "simpfunc(5)"
   ]
  },
  {
   "cell_type": "code",
   "execution_count": null,
   "id": "099f94ba-112f-4b8e-9988-041c628137b0",
   "metadata": {
    "id": "OM71gboBrWjo"
   },
   "outputs": [],
   "source": [
    "simpfunc(15)"
   ]
  },
  {
   "cell_type": "code",
   "execution_count": null,
   "id": "4fde6956-47fb-4ad4-8ab1-62fa4b916fce",
   "metadata": {
    "id": "Seqs6JkgrWjo"
   },
   "outputs": [],
   "source": [
    "simpfunc([1, 2, 3])"
   ]
  },
  {
   "cell_type": "markdown",
   "id": "59897377-0ace-48da-abe1-a46c9b1f7364",
   "metadata": {
    "id": "bl3nXq0erWjo"
   },
   "source": [
    "## docstring\n",
    "* a triple-quoted string (comment) which follows the function header\n",
    "* has some special properties...\n",
    "* every function you write should have a docstring"
   ]
  },
  {
   "cell_type": "code",
   "execution_count": null,
   "id": "f66c3ed8-4761-4d05-87f5-3aa21e77ee7f",
   "metadata": {
    "id": "2xZN6frWrWjo"
   },
   "outputs": [],
   "source": [
    "def rounder25(amount):\n",
    "    \"\"\"Return amount rounded UP to nearest\n",
    "       quarter dollar.\n",
    "\n",
    "           ...$1.89 becomes $2.00\n",
    "           ...but $1.00/$1.25/$1.75/etc.\n",
    "           remain unchanged\n",
    "    \"\"\"\n",
    "    dollars = int(amount) # 1\n",
    "    cents = round((amount - dollars) * 100) # 89\n",
    "    quarters = cents // 25 # 3\n",
    "    if cents % 25: # 14\n",
    "        quarters += 1 # 4\n",
    "    amount = dollars + 0.25 * quarters # 2.00\n",
    "\n",
    "    return amount"
   ]
  },
  {
   "cell_type": "markdown",
   "id": "8245a7bb-b3eb-47fb-9208-a3dd95772068",
   "metadata": {
    "id": "rqKXrYnXrWjo"
   },
   "source": [
    "## Functions (cont'd)\n",
    "* __`help(func)`__ prints out formatted docstring\n",
    "* _`func.__doc__`_ prints out raw docstring"
   ]
  },
  {
   "cell_type": "code",
   "execution_count": null,
   "id": "ac09817a-14bd-4618-a733-1313b9a00b97",
   "metadata": {
    "id": "zmuNJxpBrWjo"
   },
   "outputs": [],
   "source": [
    "help(rounder25)"
   ]
  },
  {
   "cell_type": "code",
   "execution_count": null,
   "id": "03df093b-8c48-459e-99b0-684e9a6968f6",
   "metadata": {
    "id": "gXEfVhMTrWjo"
   },
   "outputs": [],
   "source": [
    "print(rounder25.__doc__)"
   ]
  },
  {
   "cell_type": "code",
   "execution_count": null,
   "id": "762dbb74-ef58-4d8c-a327-2c46a7fb0f51",
   "metadata": {
    "id": "U5ixZDtXrWjp"
   },
   "outputs": [],
   "source": [
    "rounder25(1.49)"
   ]
  },
  {
   "cell_type": "code",
   "execution_count": null,
   "id": "acefa36e-2711-4ec7-8404-940675c8ea49",
   "metadata": {
    "colab": {
     "base_uri": "https://localhost:8080/"
    },
    "id": "fbG7JtJkrWjp",
    "outputId": "8cc03d5a-82db-452e-ed78-310f8e9de8c8"
   },
   "outputs": [],
   "source": [
    "rounder25(1.75)"
   ]
  },
  {
   "cell_type": "markdown",
   "id": "c6dcffda-7290-4577-b65e-2a45fcefd950",
   "metadata": {
    "id": "FAw_0hRBrWjp"
   },
   "source": [
    "## Functions (cont'd)\n",
    "* if a function doesn’t call return explicitly, the special value __`None`__ is returned\n",
    "* __`None`__ is like __`NULL`__ or __`nil`__ in other languages\n",
    "* acts like __`False`__...but not the same as __`False`__"
   ]
  },
  {
   "cell_type": "code",
   "execution_count": null,
   "id": "3cf44c02-f4bf-4350-8590-3fc97b1bfdd3",
   "metadata": {
    "id": "M03dUJyVrWjp"
   },
   "outputs": [],
   "source": [
    "retval = noonp()\n",
    "print(retval)"
   ]
  },
  {
   "cell_type": "code",
   "execution_count": null,
   "id": "f840d3b9-1ff0-4090-b237-29a5d54f9032",
   "metadata": {
    "id": "uA29CyHUrWjp"
   },
   "outputs": [],
   "source": [
    "# None acts like False...\n",
    "if retval:\n",
    "    print('something')\n",
    "else:\n",
    "    print('nothing')"
   ]
  },
  {
   "cell_type": "markdown",
   "id": "9740731d-c545-4aa2-9ec5-3f689bf6be77",
   "metadata": {
    "id": "NpJF2ULPrWjp"
   },
   "source": [
    "## Functions: positional arguments\n",
    "* arguments are passed to functions in order written"
   ]
  },
  {
   "cell_type": "code",
   "execution_count": null,
   "id": "65b0f1dd-2e6f-4001-a39e-896e5d0f1601",
   "metadata": {
    "id": "njFZFMbMrWjp"
   },
   "outputs": [],
   "source": [
    "def menu(wine, entree, dessert):\n",
    "    return { 'wine': wine, 'entree': entree, 'dessert': dessert }"
   ]
  },
  {
   "cell_type": "markdown",
   "id": "3d35404f-1af0-4eea-b99f-ba61e34180fd",
   "metadata": {
    "id": "f1AQFxFcrWjp"
   },
   "source": [
    "## Your IDE will tell you the order of the arguments\n",
    "* ...but outside an IDE, it can be difficult to remember\n",
    "* if you pass args in wrong order, bad things can happen!"
   ]
  },
  {
   "cell_type": "code",
   "execution_count": null,
   "id": "5b5f96bf-cc6c-418f-acfd-772349448f58",
   "metadata": {
    "id": "ZSZPSRo5rWjp"
   },
   "outputs": [],
   "source": [
    "menu('chianti', 'tartuffo', 'polenta')"
   ]
  },
  {
   "cell_type": "markdown",
   "id": "eaeb3555-c6d0-46bc-a750-6605b8a508a4",
   "metadata": {
    "id": "Fbgfu41arWjp"
   },
   "source": [
    "## Functions: keyword arguments\n",
    "* you may specify arguments by name, in any order\n",
    "* once you specify a keyword argument, all arguments following it must be keyword arguments"
   ]
  },
  {
   "cell_type": "code",
   "execution_count": null,
   "id": "79d56e10-e52d-4097-a32b-f8c913f986c2",
   "metadata": {
    "id": "qiqZU9marWjp"
   },
   "outputs": [],
   "source": [
    "# passing some arguments by keyword\n",
    "menu('chianti', dessert='tartufo', entree='polenta')"
   ]
  },
  {
   "cell_type": "code",
   "execution_count": null,
   "id": "45e0b18b-8749-4574-a11f-e0132337df1e",
   "metadata": {
    "id": "z-w_CBKorWjp"
   },
   "outputs": [],
   "source": [
    "# passing all arguments by keyword\n",
    "menu(dessert='tartufo', entree='polenta', wine='chianti')"
   ]
  },
  {
   "cell_type": "code",
   "execution_count": null,
   "id": "a1f18eb7-9e2f-4c2a-b455-c8cb637de026",
   "metadata": {
    "id": "C6TuGgpzrWjp"
   },
   "outputs": [],
   "source": [
    "# once you start passing arguments by keyword, the rest must be passed by keyword\n",
    "menu('chianti', dessert='tartufo', 'polenta')"
   ]
  },
  {
   "cell_type": "markdown",
   "id": "0a6d648a-552c-46ee-8285-73eee3d9b167",
   "metadata": {
    "id": "5rOj29_yrWjp"
   },
   "source": [
    "## Functions: default arguments"
   ]
  },
  {
   "cell_type": "code",
   "execution_count": null,
   "id": "0d133733-e46e-4bc3-a38f-94cee5065388",
   "metadata": {
    "id": "G1iXsiwXrWjp"
   },
   "outputs": [],
   "source": [
    "def menu(wine, entree, dessert='tartufo'):\n",
    "    return { 'wine': wine, 'entree': entree, 'dessert': dessert }"
   ]
  },
  {
   "cell_type": "code",
   "execution_count": null,
   "id": "79f4822a-5975-4879-8961-ad7515fd3ec0",
   "metadata": {
    "id": "rt4Gld1trWjp"
   },
   "outputs": [],
   "source": [
    "menu('chardonnay', 'braised tofu')"
   ]
  },
  {
   "cell_type": "code",
   "execution_count": null,
   "id": "c72e2bf5-7c3f-454c-a506-ae5ee2ead08f",
   "metadata": {
    "id": "W127k6UXrWjq"
   },
   "outputs": [],
   "source": [
    "menu('chardonnay', dessert='canoli', entree='fagioli')"
   ]
  },
  {
   "cell_type": "markdown",
   "id": "cb8d6a47-c621-4e2a-83c8-32b0c902ef1d",
   "metadata": {
    "id": "AsmZ0SbErWjq"
   },
   "source": [
    "## Lab: functions\n",
    "* write at least one of these functions, take your pick...\n",
    "  * __`calculate`__ which is passed two operands and an operator and returns the calculated result, e.g., __`calculate(2, 4, '+')`__ would return 6\n",
    "  * Given a string, the function returns __`True`__ or __`False`__ whether the string is a pangram\n",
    "  * Given an integer as a parameter, the function sums up its digits. If the resulting sum contains more than 1 digit, the function should sum the digits again, e.g., __`sumdigits(1235)`__ should compute the sum of 1, 2, 3, and 5 (11), then compute the sum of 1 and 1, returning 2.\n",
    "  * Given a number as a parameter and returns a string version of the number with commas representing thousands, e.g., __`add_commas(12345)`__ would return \"12,345\"\n",
    "  * Demonstrate the Collatz Conjecture:\n",
    "    * for integer n > 1\n",
    "      * if n is even, then __`n = n // 2`__\n",
    "      * if n is odd, then __`n = n * 3 + 1`__\n",
    "    * ...will always converge to 1\n",
    "    * your function should take n and keep printing new value of n until n is 1 and then return\n",
    "  * given a 4-digit number where not all digits are the same, demonstrate __Kaprekar's Constant__ (6174)</pre>\n",
    "    * sort the digits of the number into descending and ascending order...\n",
    "    * then calculate the difference between the two new numbers\n",
    "    * keep doing the above until you get to 6174 (you always will)\n",
    "    * e.g., starting with the number 8991:\n",
    "    <br/><br/>\n",
    "    <pre>\n",
    "      9981 – 1899 = 8082\n",
    "      8820 – 0288 = 8532\n",
    "      8532 – 2358 = 6174\n",
    "      7641 – 1467 = 6174\n",
    "    </pre>\n"
   ]
  },
  {
   "cell_type": "markdown",
   "id": "4728a311-15e5-4010-a502-3db16735471c",
   "metadata": {
    "id": "_Jnhxm0OrWjq"
   },
   "source": [
    "## Variable Positional Arguments\n",
    "* sometimes we want a function which takes a variable number of arguments (e.g., builtin __`print()`__ function)"
   ]
  },
  {
   "cell_type": "code",
   "execution_count": null,
   "id": "4d21b407-22ec-40d4-be78-d465777ef991",
   "metadata": {
    "id": "mwScYoNtrWjq"
   },
   "outputs": [],
   "source": [
    "def func(*args): # func takes 0 or more arguments\n",
    "    print(args)"
   ]
  },
  {
   "cell_type": "code",
   "execution_count": null,
   "id": "fd9cc3c6-4ba9-4ac5-b37d-15175523eb44",
   "metadata": {
    "id": "7kVOVDvYrWjq"
   },
   "outputs": [],
   "source": [
    "def func(*args): # func takes 0 or more arguments\n",
    "    print(args)\n",
    "    for index, arg in enumerate(args):\n",
    "        print('arg', index, 'is', arg)"
   ]
  },
  {
   "cell_type": "code",
   "execution_count": null,
   "id": "40ff5a11-c8f6-4f80-a2e3-69142e2d1ae1",
   "metadata": {
    "id": "OysnhAvqrWjq"
   },
   "outputs": [],
   "source": [
    "func()"
   ]
  },
  {
   "cell_type": "code",
   "execution_count": null,
   "id": "d84e45d8-c586-49d3-b19a-090dcb11c262",
   "metadata": {
    "id": "FaL57L2urWjq"
   },
   "outputs": [],
   "source": [
    "func(3, 4, 5, [2, 2, 3], {}, 'string')"
   ]
  },
  {
   "cell_type": "code",
   "execution_count": null,
   "id": "d335a562-8e1a-407e-bd1e-906c8828d901",
   "metadata": {
    "id": "SOYZQMbqrWjt"
   },
   "outputs": [],
   "source": [
    "func({ 'a': 'b'}, [1, 2, 3], 'this', True)"
   ]
  },
  {
   "cell_type": "markdown",
   "id": "712350ee-4dac-4409-93b0-3b46c0c3aca1",
   "metadata": {
    "id": "AeHwA37BrWjt"
   },
   "source": [
    "## Lab: Variable Positional Arguments\n",
    "* write a function called __`product`__ which accepts a variable number of arguments and returns the product of all of its args. With no args, __`product()`__ should return 1    \n",
    "\n",
    "<pre><b>\n",
    ">>> product(3, 5)\n",
    "15\n",
    ">>> product(1, 2, 3)\n",
    "6\n",
    ">>> product(63, 12, 3, 0, 9)\n",
    "0\n",
    ">>> product()\n",
    "1\n",
    "</b></pre>"
   ]
  },
  {
   "cell_type": "markdown",
   "id": "0cb57d43-c301-4d74-9439-c06f5541aad9",
   "metadata": {
    "id": "IDPx8BITrWjt"
   },
   "source": [
    "## Variable Keyword Arguments\n",
    "* what if a function needs a bunch of configuration options, having default values which typically aren't overridden?\n",
    "  * one way to do this would be to have the function accept a dict in which these value(s) can be specified\n",
    "  * better way is to use variable keywords arguments"
   ]
  },
  {
   "cell_type": "code",
   "execution_count": null,
   "id": "4b35f3c7-7ec3-484f-8b9a-cc02f2facf75",
   "metadata": {
    "id": "B3mILcxtrWjt"
   },
   "outputs": [],
   "source": [
    "def vka(**kwargs):\n",
    "    print(kwargs)\n",
    "    for key in kwargs:\n",
    "        print(key, '=>', kwargs[key])"
   ]
  },
  {
   "cell_type": "code",
   "execution_count": null,
   "id": "ff8898aa-ecf8-4021-ae56-f528c5009c81",
   "metadata": {
    "id": "tvsbHUoUrWjt"
   },
   "outputs": [],
   "source": [
    "vka(sep='+', foo='bar', whizbang='rotunda', x=5, debug='hello', color='pink')"
   ]
  },
  {
   "cell_type": "code",
   "execution_count": null,
   "id": "d7a1701d-64fc-41db-a32c-e5d2ea4d4117",
   "metadata": {
    "id": "QpztbCK_rWjt"
   },
   "outputs": [],
   "source": [
    "def weird_func(x, y, z, *args, **kwargs):\n",
    "    print('req args:', x, y, z)\n",
    "    print('var pos args', args)\n",
    "    print('var keywd args', kwargs)\n",
    "    if 'debug' in kwargs:\n",
    "        if kwargs['debug'] == True: # because it could be false\n",
    "            turn_on_debugging = True\n",
    "            # utilize some of *args..."
   ]
  },
  {
   "cell_type": "code",
   "execution_count": null,
   "id": "dda5a9eb-c094-4edc-ab81-5bd582420d6b",
   "metadata": {
    "id": "w0MQ2BOFrWjt"
   },
   "outputs": [],
   "source": [
    "def weird_func(x, y, z, debug_file=None, debug=False):\n",
    "    print('req args:', x, y, z)\n",
    "    print('var pos args', args)\n",
    "    print('var keywd args', kwargs)"
   ]
  }
 ],
 "metadata": {
  "kernelspec": {
   "display_name": "Python 3 (ipykernel)",
   "language": "python",
   "name": "python3"
  },
  "language_info": {
   "codemirror_mode": {
    "name": "ipython",
    "version": 3
   },
   "file_extension": ".py",
   "mimetype": "text/x-python",
   "name": "python",
   "nbconvert_exporter": "python",
   "pygments_lexer": "ipython3",
   "version": "3.13.5"
  }
 },
 "nbformat": 4,
 "nbformat_minor": 5
}

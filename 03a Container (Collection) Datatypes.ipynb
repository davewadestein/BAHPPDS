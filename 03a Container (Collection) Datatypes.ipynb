{
 "cells": [
  {
   "cell_type": "markdown",
   "id": "2c37797e-b769-4941-ad4e-370fe4f3f206",
   "metadata": {},
   "source": [
    "# Container (Collection) Datatypes\n",
    "* scalars = single objects, e.g., __`int`__, __`float`__, __`bool`__\n",
    "* containers = objects that hold 0+ items\n",
    "  * the first container type we'll learn about is a __`list`__\n",
    "  * to introduce lists, let's examin two important string methods"
   ]
  },
  {
   "cell_type": "code",
   "execution_count": null,
   "id": "73666923-4a28-4e0c-85b4-ebade9873b4c",
   "metadata": {},
   "outputs": [],
   "source": []
  },
  {
   "cell_type": "code",
   "execution_count": null,
   "id": "c4dfc8a5-abe0-4d2b-a28e-f99813cfacad",
   "metadata": {},
   "outputs": [],
   "source": []
  },
  {
   "cell_type": "code",
   "execution_count": null,
   "id": "e8cc2d03-d944-48b7-8148-7a75178959c9",
   "metadata": {},
   "outputs": [],
   "source": []
  },
  {
   "cell_type": "code",
   "execution_count": null,
   "id": "822e4776-5de7-443a-8f3b-36d7e5c79fb5",
   "metadata": {},
   "outputs": [],
   "source": []
  },
  {
   "cell_type": "code",
   "execution_count": null,
   "id": "17d2a054-e2bf-4760-b677-722b581612e5",
   "metadata": {},
   "outputs": [],
   "source": []
  },
  {
   "cell_type": "code",
   "execution_count": null,
   "id": "698b0ebc-62c3-49e9-bc07-f389fdfeb1a4",
   "metadata": {},
   "outputs": [],
   "source": []
  },
  {
   "cell_type": "markdown",
   "id": "3da3d198-a3d3-49fa-b705-461b2448e48b",
   "metadata": {
    "id": "hlJEE7Wz5_fi"
   },
   "source": [
    "## __`split()/join()`__\n",
    "* important string methods which are inverses of one another\n",
    "* __`.split()`__ splits a string into a __`list`__, a new datatype\n",
    "* __`.join()`__ takes a list of words and joins them back together into a string"
   ]
  },
  {
   "cell_type": "code",
   "execution_count": 1,
   "id": "6e7c7718-5850-409b-9151-1bc4344754c6",
   "metadata": {
    "colab": {
     "base_uri": "https://localhost:8080/"
    },
    "id": "9Q1zH_n35_fi",
    "outputId": "25a874d0-da76-44ae-f5d7-e06203a5ba3d"
   },
   "outputs": [
    {
     "data": {
      "text/plain": [
       "['Now', 'is', 'the', 'time']"
      ]
     },
     "execution_count": 1,
     "metadata": {},
     "output_type": "execute_result"
    }
   ],
   "source": [
    "'Now is the time'.split() # this is a string method"
   ]
  },
  {
   "cell_type": "code",
   "execution_count": 2,
   "id": "4b0cc777-4a60-4d7c-97f1-c8911f3542f4",
   "metadata": {
    "colab": {
     "base_uri": "https://localhost:8080/"
    },
    "id": "6rcJz-Uv5_fi",
    "outputId": "d553be08-cdc9-4af8-f1d2-3d412fc85490"
   },
   "outputs": [
    {
     "data": {
      "text/plain": [
       "['eggs', 'bread', 'milk', 'yogurt']"
      ]
     },
     "execution_count": 2,
     "metadata": {},
     "output_type": "execute_result"
    }
   ],
   "source": [
    "'eggs, bread, milk, yogurt'.split(', ')"
   ]
  },
  {
   "cell_type": "markdown",
   "id": "5e3f2dd1-1af7-4caf-bd1f-b966749b3703",
   "metadata": {
    "id": "Ta6CLHgq5_fi"
   },
   "source": [
    "* Now we want to demonstrate that we can put back together a \"splitted\" string\n",
    "  * it would be nice if we could write __`['eggs', 'bread', 'milk', 'yogurt'].join(', ')`__\n",
    "  * but we can't because __`.join()`__ is actually a string method...WHY?"
   ]
  },
  {
   "cell_type": "code",
   "execution_count": 5,
   "id": "05da9d60-6954-4dc9-aa91-6dd1b0e0dd81",
   "metadata": {
    "colab": {
     "base_uri": "https://localhost:8080/",
     "height": 35
    },
    "id": "y_RWOgJ-5_fi",
    "outputId": "083d5944-e353-4f0c-8f81-5bdd3f164024"
   },
   "outputs": [
    {
     "data": {
      "text/plain": [
       "'antidisestablishmentarianism'"
      ]
     },
     "execution_count": 5,
     "metadata": {},
     "output_type": "execute_result"
    }
   ],
   "source": [
    "# separator (a string) DOT join(container)\n",
    "''.join(['anti', 'dis', 'establish', 'men', 'tarian', 'ism'])"
   ]
  },
  {
   "cell_type": "code",
   "execution_count": 4,
   "id": "14aec806-7115-49c5-be0b-5f8d4bf0d6b8",
   "metadata": {},
   "outputs": [
    {
     "data": {
      "text/plain": [
       "'Anne, Robert, Nancy'"
      ]
     },
     "execution_count": 4,
     "metadata": {},
     "output_type": "execute_result"
    }
   ],
   "source": [
    "', '.join(['Anne', 'Robert', 'Nancy'])"
   ]
  },
  {
   "cell_type": "markdown",
   "id": "3e792087-e6a2-4143-b161-a00837f207f6",
   "metadata": {
    "id": "GwDTSRJj5_fi"
   },
   "source": [
    "## Lists\n",
    "* usually homogeneous, but may contain any objects\n",
    "* unbounded / not a fixed size\n",
    "* duplicates allowed\n",
    "* __`list()`__ function creates a list from another sequence or container"
   ]
  },
  {
   "cell_type": "code",
   "execution_count": null,
   "id": "172c6665-d62e-47ae-9bdb-f720790f10bb",
   "metadata": {
    "colab": {
     "base_uri": "https://localhost:8080/"
    },
    "id": "jZ6zn6ug5_fi",
    "outputId": "51722b1c-d558-4a8d-d2ae-50ae60a59adf"
   },
   "outputs": [],
   "source": [
    "mylist = [1, 3, 5, 7, 5, 3, 1]\n",
    "mylist"
   ]
  },
  {
   "cell_type": "code",
   "execution_count": null,
   "id": "98615097-936c-442b-90d5-a4af3722c90b",
   "metadata": {
    "colab": {
     "base_uri": "https://localhost:8080/"
    },
    "id": "mZCAlABR5_fi",
    "outputId": "9cfe0789-9241-42b9-836e-d587596e53e9"
   },
   "outputs": [],
   "source": [
    "days = ['Mon', 'Tue', 'Wed', 'Thu', 'Fri', 'Sat', 'Sun']\n",
    "days"
   ]
  },
  {
   "cell_type": "code",
   "execution_count": null,
   "id": "33aa8dbb-a54c-43c0-8a8c-49402816a623",
   "metadata": {
    "colab": {
     "base_uri": "https://localhost:8080/"
    },
    "id": "e97j4AZF5_fi",
    "outputId": "e2c235ac-77ba-4a1b-be8d-dc99b311371a"
   },
   "outputs": [],
   "source": [
    "list('hello')"
   ]
  },
  {
   "cell_type": "code",
   "execution_count": null,
   "id": "95362f6d-6925-4909-9533-bd98fb9e6182",
   "metadata": {
    "colab": {
     "base_uri": "https://localhost:8080/"
    },
    "id": "u7rJ4xw25_fi",
    "outputId": "e26c387d-6553-4998-990c-d5e95b697b16"
   },
   "outputs": [],
   "source": [
    "stuff = input('Enter something: ')\n",
    "stuff.split()"
   ]
  },
  {
   "cell_type": "code",
   "execution_count": null,
   "id": "43f086db-d2a7-4e9f-a618-45a22df80dd9",
   "metadata": {
    "id": "XMkYH8Zq5_fi"
   },
   "outputs": [],
   "source": [
    "cars = ['Tesla', 'Rivian', 'Lucid', 'Polestar', 'Aptera']"
   ]
  },
  {
   "cell_type": "code",
   "execution_count": null,
   "id": "95ab64d5-45f8-45fa-b361-62f88518abbc",
   "metadata": {
    "colab": {
     "base_uri": "https://localhost:8080/",
     "height": 35
    },
    "id": "cU_GQz5c5_fk",
    "outputId": "c2d2be5e-1810-42cb-a9f4-baf2adfd45fa"
   },
   "outputs": [],
   "source": [
    "cars[0]"
   ]
  },
  {
   "cell_type": "code",
   "execution_count": null,
   "id": "f3412a49-4996-4803-a734-adebdc3b6cc5",
   "metadata": {
    "colab": {
     "base_uri": "https://localhost:8080/",
     "height": 35
    },
    "id": "r3-OpTxs5_fk",
    "outputId": "5b565cac-4c47-4fe2-f209-9dd883285fbb"
   },
   "outputs": [],
   "source": [
    "cars[-1] # always the last element of the list/container"
   ]
  },
  {
   "cell_type": "code",
   "execution_count": null,
   "id": "ec5b7b66-182e-461c-b84e-5fba5fffd719",
   "metadata": {
    "colab": {
     "base_uri": "https://localhost:8080/"
    },
    "id": "lpU2usAW5_fk",
    "outputId": "6bbcf6e6-098d-4780-d480-3d005596c9b0"
   },
   "outputs": [],
   "source": [
    "cars[-1] = 'Aptera Motors'\n",
    "cars"
   ]
  },
  {
   "cell_type": "code",
   "execution_count": null,
   "id": "481cba87-d953-4fc4-a26d-645ead9ac540",
   "metadata": {
    "colab": {
     "base_uri": "https://localhost:8080/"
    },
    "id": "qeBnBTQk5_fl",
    "outputId": "cd3959ce-0c48-4092-8d43-48395feb8ad1"
   },
   "outputs": [],
   "source": [
    "cars[:2] # first 2 items in a container"
   ]
  },
  {
   "cell_type": "code",
   "execution_count": null,
   "id": "53f6bc42-2568-43a2-8b83-03eecf83733a",
   "metadata": {
    "colab": {
     "base_uri": "https://localhost:8080/"
    },
    "id": "9By3Iiuf5_fl",
    "outputId": "6493e17d-f09b-41e0-cd63-a632dfb17e79"
   },
   "outputs": [],
   "source": [
    "cars[::2] # the \"evens\", every other item"
   ]
  },
  {
   "cell_type": "code",
   "execution_count": null,
   "id": "978e5668-f54f-4692-8cad-1b1cc57133e5",
   "metadata": {
    "colab": {
     "base_uri": "https://localhost:8080/"
    },
    "id": "GKqIjk7d5_fl",
    "outputId": "3c37c219-881a-44e0-a095-d5fc0c1cab82"
   },
   "outputs": [],
   "source": [
    "cars[1::2] # the \"odds\", every other item"
   ]
  },
  {
   "cell_type": "code",
   "execution_count": null,
   "id": "5b09d0e4-79f8-41bd-97ab-e302ebdab16b",
   "metadata": {
    "colab": {
     "base_uri": "https://localhost:8080/"
    },
    "id": "sJyZ2vDE5_fl",
    "outputId": "f283eaf7-50ba-45ed-b104-bdcbbd89f8de"
   },
   "outputs": [],
   "source": [
    "cars[::-1] # also idiomatic"
   ]
  },
  {
   "cell_type": "markdown",
   "id": "990a7ffe-ba1e-4e78-a94a-efe347624760",
   "metadata": {
    "id": "vRSZzXQx5_fl"
   },
   "source": [
    "## Looping Through a List"
   ]
  },
  {
   "cell_type": "code",
   "execution_count": null,
   "id": "8fce7ef3-d4c8-4614-b678-10c6e155bcca",
   "metadata": {
    "colab": {
     "base_uri": "https://localhost:8080/"
    },
    "id": "bFO5Fad05_fl",
    "outputId": "0a5f1ae4-1c22-4be1-9778-3260a98b38ae"
   },
   "outputs": [],
   "source": [
    "index = 0\n",
    "while index < len(cars):\n",
    "    print(cars[index])\n",
    "    index += 1 # index = index + 1"
   ]
  },
  {
   "cell_type": "code",
   "execution_count": null,
   "id": "0abffa17-dbd5-4281-9b06-b54d712e8162",
   "metadata": {
    "colab": {
     "base_uri": "https://localhost:8080/"
    },
    "id": "2UghPG6_5_fl",
    "outputId": "00a1ba6c-9b21-4322-e4c3-612ebeefc722"
   },
   "outputs": [],
   "source": [
    "for index in range(len(cars)):\n",
    "    print(cars[index])"
   ]
  },
  {
   "cell_type": "markdown",
   "id": "78f8ca78-9611-4115-9b1b-151b17329853",
   "metadata": {
    "id": "f6_-aabY5_fl"
   },
   "source": [
    "* that works, but it's not the way we'd write it in Python...it's not _Pythonic_"
   ]
  },
  {
   "cell_type": "code",
   "execution_count": null,
   "id": "784a9a8e-7eba-4ae3-8685-527649f98f4c",
   "metadata": {
    "colab": {
     "base_uri": "https://localhost:8080/"
    },
    "id": "qdnHOnWz5_fl",
    "outputId": "ab84823b-6501-445e-a949-40074aa73425"
   },
   "outputs": [],
   "source": [
    "for car in cars: # for \"thing in container\"\n",
    "    print(car)"
   ]
  },
  {
   "cell_type": "markdown",
   "id": "bf9b8645-b801-4ca4-b5c8-1c456bfcc6b8",
   "metadata": {
    "id": "yVAGLAKK5_fl"
   },
   "source": [
    "## Adding to a List (\"mutator\" methods)\n",
    "* __`append()`__: add an item the end of a list\n",
    "* __`insert()`__: add an item to a particular place in the list\n",
    "* __`extend()`__ (also __`+=`__): add a list to a list"
   ]
  },
  {
   "cell_type": "code",
   "execution_count": null,
   "id": "ff470da7-5100-4979-b023-eee9964d15da",
   "metadata": {
    "colab": {
     "base_uri": "https://localhost:8080/"
    },
    "id": "NCRX0EBn5_fl",
    "outputId": "7d03e157-624a-4f3d-bca8-ac7da99c6073"
   },
   "outputs": [],
   "source": [
    "cars.append('BYD')\n",
    "cars"
   ]
  },
  {
   "cell_type": "code",
   "execution_count": null,
   "id": "5655ba4a-e8a3-4120-bffc-d01ed97a7a97",
   "metadata": {
    "colab": {
     "base_uri": "https://localhost:8080/"
    },
    "id": "Spl93NEg5_fl",
    "outputId": "23fb62fd-ee8b-4da3-8e7f-4bd6b464b887"
   },
   "outputs": [],
   "source": [
    "cars.insert(2, 'Faraday')\n",
    "cars"
   ]
  },
  {
   "cell_type": "code",
   "execution_count": null,
   "id": "a1c6b88b-9a48-49ec-a32e-002990c281b3",
   "metadata": {
    "colab": {
     "base_uri": "https://localhost:8080/"
    },
    "id": "Mncpm-wX5_fl",
    "outputId": "5b4a555f-e78a-43e9-d00b-62cf0c656b01"
   },
   "outputs": [],
   "source": [
    "others = ['VinFast', 'Nikola']\n",
    "cars += others # cars.extend(others)\n",
    "cars"
   ]
  },
  {
   "cell_type": "code",
   "execution_count": null,
   "id": "008e3eff-625f-4340-8440-5da587c0c1e6",
   "metadata": {
    "colab": {
     "base_uri": "https://localhost:8080/"
    },
    "id": "dEWAVREu5_fl",
    "outputId": "91be97a0-55ed-4d90-fc8d-a47cfd7a387e"
   },
   "outputs": [],
   "source": [
    "cars.append(others)\n",
    "cars"
   ]
  },
  {
   "cell_type": "code",
   "execution_count": null,
   "id": "5a855cdb-fca9-47d4-8fe6-538e19f6fcc6",
   "metadata": {
    "id": "GAGywvjN5_fl"
   },
   "outputs": [],
   "source": [
    "print(cars)"
   ]
  },
  {
   "cell_type": "markdown",
   "id": "9eec8cdd-33e2-4dd3-b503-8c17192b50f4",
   "metadata": {
    "id": "-HViMCog5_fl"
   },
   "source": [
    "## Removing from a List\n",
    "* __`del`__: delete by position\n",
    "* __`remove(item)`__: remove by value\n",
    "* __`pop()`__: remove last item (or specified item)"
   ]
  },
  {
   "cell_type": "code",
   "execution_count": null,
   "id": "afc5b6ea-9ec3-4f1e-b8d6-6c0c0e9e8e9e",
   "metadata": {
    "colab": {
     "base_uri": "https://localhost:8080/"
    },
    "id": "HxQmN4pI5_fl",
    "outputId": "1315d4d5-eb99-4e22-fefa-1fa192301c75"
   },
   "outputs": [],
   "source": [
    "cars"
   ]
  },
  {
   "cell_type": "code",
   "execution_count": null,
   "id": "07a833fc-5c39-435e-b747-6dbd9dbc2ca7",
   "metadata": {
    "colab": {
     "base_uri": "https://localhost:8080/"
    },
    "id": "iHstrbsF5_fl",
    "outputId": "8cd4ed08-6e0e-4610-8182-a0b7b19c5b9a"
   },
   "outputs": [],
   "source": [
    "del cars[-1]\n",
    "cars"
   ]
  },
  {
   "cell_type": "code",
   "execution_count": null,
   "id": "8f87dee9-e782-4d77-9406-9394484ee0b3",
   "metadata": {
    "colab": {
     "base_uri": "https://localhost:8080/",
     "height": 141
    },
    "id": "58Vem0Gf5_fl",
    "outputId": "30aad304-fa2e-487d-d00f-89d15ed38c0e",
    "scrolled": true
   },
   "outputs": [],
   "source": [
    "cars.remove('Lucid')"
   ]
  },
  {
   "cell_type": "code",
   "execution_count": null,
   "id": "b27a6de7-3f77-4284-821d-f009e5ea629a",
   "metadata": {
    "colab": {
     "base_uri": "https://localhost:8080/"
    },
    "id": "KqbEE9L85_fm",
    "outputId": "105f142b-3465-42ce-bdfe-2eeda0e977c0"
   },
   "outputs": [],
   "source": [
    "cars"
   ]
  },
  {
   "cell_type": "code",
   "execution_count": null,
   "id": "95dd4815-3c4d-4bc2-bd58-10ac3ef9225d",
   "metadata": {
    "colab": {
     "base_uri": "https://localhost:8080/",
     "height": 35
    },
    "id": "T5bRpHZ95_fm",
    "outputId": "973a6076-0bb0-4607-fc13-cc7a186554b1"
   },
   "outputs": [],
   "source": [
    "cars.pop() # last item by default"
   ]
  },
  {
   "cell_type": "code",
   "execution_count": null,
   "id": "6e98e17e-8d1e-499b-ad06-86b6a191f45d",
   "metadata": {
    "colab": {
     "base_uri": "https://localhost:8080/"
    },
    "id": "r5hLy_Jk5_fm",
    "outputId": "2e100f6a-eb3a-41c1-f000-31b041ae1192"
   },
   "outputs": [],
   "source": [
    "cars"
   ]
  },
  {
   "cell_type": "code",
   "execution_count": null,
   "id": "7301907a-de5a-4964-9637-c2d4086cdef3",
   "metadata": {
    "colab": {
     "base_uri": "https://localhost:8080/",
     "height": 35
    },
    "id": "OTxnv7UJ5_fm",
    "outputId": "4c83fa0d-163d-4dfa-9d1b-911b1579679d"
   },
   "outputs": [],
   "source": [
    "cars.pop(1) # pop() or remove the second item"
   ]
  },
  {
   "cell_type": "code",
   "execution_count": null,
   "id": "7483a1b2-f079-4b22-aefb-d703aa62a77a",
   "metadata": {
    "colab": {
     "base_uri": "https://localhost:8080/"
    },
    "id": "3IFl9Iem5_fm",
    "outputId": "b0ee4648-c2bc-47e3-ca90-cb5bbbf7b7df"
   },
   "outputs": [],
   "source": [
    "cars"
   ]
  },
  {
   "cell_type": "markdown",
   "id": "f1439247-bd0a-440b-a6f2-efc8eb1fe29f",
   "metadata": {
    "id": "pHCFWaxC5_fm"
   },
   "source": [
    "## Examining Lists (inspectors)\n",
    "* __`index(item)`__: return position of item\n",
    "* __`count(item)`__: count occurrences of item\n",
    "* __`in`__: test for membership"
   ]
  },
  {
   "cell_type": "code",
   "execution_count": null,
   "id": "923378e9-0a58-4035-a055-b50d012f3fff",
   "metadata": {
    "colab": {
     "base_uri": "https://localhost:8080/"
    },
    "id": "OvBy-WdI5_fm",
    "outputId": "2f2cfe15-a739-414d-9b9a-f7f835098c5f"
   },
   "outputs": [],
   "source": [
    "cars"
   ]
  },
  {
   "cell_type": "code",
   "execution_count": null,
   "id": "fae7a194-9914-4af5-bce8-38e7d09b8c6c",
   "metadata": {
    "colab": {
     "base_uri": "https://localhost:8080/"
    },
    "id": "EgAJwVWO5_fm",
    "outputId": "2cebfbad-e80e-4331-d2fb-034b17e8676b"
   },
   "outputs": [],
   "source": [
    "cars.index('Polestar')"
   ]
  },
  {
   "cell_type": "code",
   "execution_count": null,
   "id": "77adeb1f-70fd-4e34-b026-86f9e59f9ba9",
   "metadata": {
    "colab": {
     "base_uri": "https://localhost:8080/"
    },
    "id": "aQifqOoZ5_fm",
    "outputId": "6cccafec-cceb-43a4-e384-113de7cad586"
   },
   "outputs": [],
   "source": [
    "'BYD' in cars"
   ]
  },
  {
   "cell_type": "code",
   "execution_count": null,
   "id": "4fc38747-7f52-43d0-8c1f-54c3f5d5cfd3",
   "metadata": {
    "id": "ULxJPsQq5_fm"
   },
   "outputs": [],
   "source": [
    "for _ in range(10): # do something 10 times\n",
    "    cars.append('Nikola')"
   ]
  },
  {
   "cell_type": "code",
   "execution_count": null,
   "id": "042a6ff0-4c13-4d40-9e1f-695bdbc3a229",
   "metadata": {
    "colab": {
     "base_uri": "https://localhost:8080/"
    },
    "id": "5SqPoh7I5_fm",
    "outputId": "14485913-5bca-401b-f3b6-c2299c8f46e3"
   },
   "outputs": [],
   "source": [
    "cars"
   ]
  },
  {
   "cell_type": "code",
   "execution_count": null,
   "id": "1cb37016-e01f-43c3-b655-cf67adb328a3",
   "metadata": {
    "colab": {
     "base_uri": "https://localhost:8080/"
    },
    "id": "fv_gt1f85_fm",
    "outputId": "75ff2d11-2221-481b-b6b8-6acaadc29ce9"
   },
   "outputs": [],
   "source": [
    "cars.count('Nikola')"
   ]
  },
  {
   "cell_type": "code",
   "execution_count": null,
   "id": "ac339aa0-afb4-4457-ba00-ac4c946f6ee6",
   "metadata": {
    "colab": {
     "base_uri": "https://localhost:8080/"
    },
    "id": "v2cy0wVT5_fm",
    "outputId": "10eca3e7-f807-495c-b4d6-54227c929e36"
   },
   "outputs": [],
   "source": [
    "while 'Nikola' in cars:\n",
    "    cars.remove('Nikola') # each call only removes one\n",
    "cars"
   ]
  },
  {
   "cell_type": "code",
   "execution_count": null,
   "id": "afc5cac1-fbb0-4f5a-bbed-22925583574e",
   "metadata": {
    "colab": {
     "base_uri": "https://localhost:8080/"
    },
    "id": "furtdP_x5_fm",
    "outputId": "2942c00a-ba8f-4ce2-ea2b-f8a8acc95e2c"
   },
   "outputs": [],
   "source": [
    "for _ in range(cars.count('Nikola')): # do this 10 times\n",
    "    cars.remove('Nikola')\n",
    "cars"
   ]
  },
  {
   "cell_type": "markdown",
   "id": "c219f9bb-149d-4aad-aaf0-a25874c34025",
   "metadata": {
    "id": "cC6CzZZn5_fm"
   },
   "source": [
    "## __`join()/split()`__ ... redux"
   ]
  },
  {
   "cell_type": "code",
   "execution_count": null,
   "id": "7a5ed60d-0abb-4e47-b7cf-de7462bf98df",
   "metadata": {
    "colab": {
     "base_uri": "https://localhost:8080/",
     "height": 35
    },
    "id": "4F9-Jug_5_fn",
    "outputId": "4cdc4377-e2df-4264-9ca1-091f57ab7324"
   },
   "outputs": [],
   "source": [
    "joined = ', '.join(cars)\n",
    "joined # string which represents the \"joined\" items in the list"
   ]
  },
  {
   "cell_type": "code",
   "execution_count": null,
   "id": "fb8b2ee4-04cb-4116-81e1-a4968767fe0b",
   "metadata": {
    "colab": {
     "base_uri": "https://localhost:8080/"
    },
    "id": "XEPimwF05_fn",
    "outputId": "1bd8d78a-a02f-4fd7-d1ac-55aa9ecd6f57"
   },
   "outputs": [],
   "source": [
    "unjoined = joined.split(', ')\n",
    "unjoined # split into a new list"
   ]
  },
  {
   "cell_type": "code",
   "execution_count": null,
   "id": "9ae053ed-4730-4dec-ac17-cf5553852e8d",
   "metadata": {
    "colab": {
     "base_uri": "https://localhost:8080/"
    },
    "id": "nJ5qbwVO5_fn",
    "outputId": "9518716d-b5a3-4fcc-8c36-802c32d4b16e"
   },
   "outputs": [],
   "source": [
    "cars == unjoined # are they the same? (They should be...)"
   ]
  },
  {
   "cell_type": "markdown",
   "id": "1e49e740-be3f-43e6-9c8f-482c2b41129e",
   "metadata": {
    "id": "wrSmt5L55_fn"
   },
   "source": [
    "## Sorting Lists\n",
    "* __`sorted()`__: _built-in function_ which returns a sorted list created\n",
    "from an iterable/sequence\n",
    "* __`sort()`__: _method_ to sort a list in place\n",
    "* __`len()`__: _built-in function_ which returns length of a list"
   ]
  },
  {
   "cell_type": "code",
   "execution_count": null,
   "id": "d0e59cbf-33e3-49cd-a108-c4be0b79ec33",
   "metadata": {
    "colab": {
     "base_uri": "https://localhost:8080/"
    },
    "id": "1Q554Xv95_fn",
    "outputId": "28684ae6-36e5-485d-f7c0-3447017e4de5"
   },
   "outputs": [],
   "source": [
    "sorted(cars) # let's explain what this does"
   ]
  },
  {
   "cell_type": "code",
   "execution_count": null,
   "id": "c7d2ad4d-c001-459e-a285-2bb5f09c71aa",
   "metadata": {
    "colab": {
     "base_uri": "https://localhost:8080/"
    },
    "id": "uz98dYeM5_fn",
    "outputId": "f8500166-d41a-4f67-f76d-33efe01b9db0"
   },
   "outputs": [],
   "source": [
    "cars.sort() # vs. this\n",
    "cars"
   ]
  },
  {
   "cell_type": "code",
   "execution_count": null,
   "id": "7b64018f-96f6-4ecb-95fe-1002037504dc",
   "metadata": {
    "colab": {
     "base_uri": "https://localhost:8080/"
    },
    "id": "hzVpil8J5_fn",
    "outputId": "e25e6430-dbd1-4c0b-b494-d9493f7ecc72"
   },
   "outputs": [],
   "source": [
    "cars.sort(reverse=True)\n",
    "cars"
   ]
  },
  {
   "cell_type": "code",
   "execution_count": null,
   "id": "0cefbb9f-7fef-4c6b-ba8a-18d63fee49d5",
   "metadata": {
    "colab": {
     "base_uri": "https://localhost:8080/"
    },
    "id": "FUu_pu5z5_fn",
    "outputId": "a1146d5c-eca4-44cb-b087-c4e7b0b208d6",
    "scrolled": true
   },
   "outputs": [],
   "source": [
    "# Is this correct?\n",
    "cars = sorted(cars) # cars.sort()\n",
    "print(cars)"
   ]
  },
  {
   "cell_type": "code",
   "execution_count": null,
   "id": "bf551656-ead4-435a-89c2-5faceb517083",
   "metadata": {
    "colab": {
     "base_uri": "https://localhost:8080/"
    },
    "id": "TRLqrsvT5_fn",
    "outputId": "d2473dcd-05f1-42fb-8def-148120081495"
   },
   "outputs": [],
   "source": [
    "cars"
   ]
  },
  {
   "cell_type": "code",
   "execution_count": null,
   "id": "d8bc7715-c8a0-470f-b3f0-4dc428a206e1",
   "metadata": {
    "colab": {
     "base_uri": "https://localhost:8080/"
    },
    "id": "WBteym6w5_fn",
    "outputId": "6bd87312-7061-4bd6-907e-9839a3e278ea"
   },
   "outputs": [],
   "source": [
    "# What about this?\n",
    "cars = cars.sort() # cars.sort()\n",
    "print(cars)"
   ]
  },
  {
   "cell_type": "markdown",
   "id": "3032d090-fe88-49b7-b522-c55112453558",
   "metadata": {
    "id": "P-7WM9sPljs0"
   },
   "source": [
    "## \"Pythonic\" ... redux"
   ]
  },
  {
   "cell_type": "code",
   "execution_count": null,
   "id": "3d560786-af85-4130-b31e-d972cfbf455c",
   "metadata": {
    "id": "yYsaNBAMljs0"
   },
   "outputs": [],
   "source": [
    "cars = ['Tesla', 'Rivian', 'Lucid', 'Polestar', 'Aptera']"
   ]
  },
  {
   "cell_type": "code",
   "execution_count": null,
   "id": "ad21f7bc-3a38-4159-b002-bb7d46d9c349",
   "metadata": {
    "id": "0CLdHbOiljs1",
    "tags": []
   },
   "outputs": [],
   "source": [
    "index = 0\n",
    "for car in cars: # for thing in container\n",
    "    print('index', index, 'is', car)\n",
    "    index += 1"
   ]
  },
  {
   "cell_type": "markdown",
   "id": "806ee0e1-41bd-4ed7-86c0-d14b49bcd9c1",
   "metadata": {
    "id": "-91Qg6jGljs1"
   },
   "source": [
    "## __`enumerate()`__\n",
    "* a builtin function which associates an index with each item in an container\n",
    "* returns a special object that \"gives up\" the index and item at that index...\n",
    "    * ...each time we \"knock on its door\""
   ]
  },
  {
   "cell_type": "code",
   "execution_count": null,
   "id": "2011bfdd-beaf-4038-8977-306d682f7bd6",
   "metadata": {
    "id": "dkmFeYhVljs1",
    "tags": []
   },
   "outputs": [],
   "source": [
    "for index, car in enumerate(cars):\n",
    "    print('car maker', index, 'is', car)"
   ]
  },
  {
   "cell_type": "code",
   "execution_count": null,
   "id": "2bbdcc92-6759-45ab-a548-f2cc382d6fad",
   "metadata": {
    "id": "O-kq0z-Wljs1"
   },
   "outputs": [],
   "source": [
    "for index, car in enumerate(cars, start=1):\n",
    "    print('car maker', index, 'is', car)"
   ]
  },
  {
   "cell_type": "markdown",
   "id": "e8edaade-74fa-40f6-8d32-848eeb8dbccc",
   "metadata": {
    "id": "4SoPZTtTljs1"
   },
   "source": [
    "## __`zip(*iterables)`__\n",
    "* __*iterables__ means \"0+ iterables (containers)\"\n",
    "* builtin function which matches up each item in an iterable with the corresponding item in the other iterable(s)\n",
    "* why is it called __`zip`__?"
   ]
  },
  {
   "cell_type": "code",
   "execution_count": null,
   "id": "4004cda1-8ed3-4417-b71d-2832f3b29430",
   "metadata": {
    "id": "3mnkUerBljs1"
   },
   "outputs": [],
   "source": [
    "first_names = ['Katherine', 'Bruce', 'Taylor']\n",
    "last_names = ['Johnson', 'Lee', 'Swift']\n",
    "\n",
    "for first, last in zip(first_names, last_names):\n",
    "    print(first, last)"
   ]
  },
  {
   "cell_type": "code",
   "execution_count": null,
   "id": "39bdfc57-d804-4b8c-996a-c93270ea0d13",
   "metadata": {
    "id": "pnjV1F2iljs2",
    "tags": []
   },
   "outputs": [],
   "source": [
    "first_names = ['Katherine', 'Bruce', 'Taylor']\n",
    "last_names = ['Johnson', 'Lee', 'Swift']\n",
    "employee_nums = [3456, 1234, 2468]\n",
    "\n",
    "for first, last, num in zip(first_names, last_names, employee_nums):\n",
    "    print(first, last, num)"
   ]
  },
  {
   "cell_type": "code",
   "execution_count": null,
   "id": "5930f802-0ecd-4a58-b51b-ccef9cf7c21f",
   "metadata": {
    "id": "ABV9CGpVljs2",
    "tags": []
   },
   "outputs": [],
   "source": [
    "first_names = ['Katherine', 'Bruce', 'Taylor']\n",
    "last_names = ['Johnson', 'Lee', 'Swift', 'Frost']\n",
    "\n",
    "for first, last in zip(first_names, last_names):\n",
    "    print(first, last)"
   ]
  },
  {
   "cell_type": "code",
   "execution_count": null,
   "id": "34fb81d1-c0f9-47cf-89f7-eb4f26a670d3",
   "metadata": {
    "id": "BI7zyOB4ljs2",
    "tags": []
   },
   "outputs": [],
   "source": [
    "import itertools # module that helps with iteration\n",
    "\n",
    "first_names = ['Katherine', 'Bruce', 'Taylor']\n",
    "last_names = ['Johnson', 'Lee', 'Swift', 'Frost']\n",
    "\n",
    "for first, last in itertools.zip_longest(first_names, last_names, fillvalue='***'):\n",
    "    print(first, last)"
   ]
  },
  {
   "cell_type": "code",
   "execution_count": null,
   "id": "d2c73c7f-a38b-49c1-a99b-a2ae97a4121e",
   "metadata": {
    "id": "9Hy2MxMfljs2"
   },
   "outputs": [],
   "source": [
    "first_names = ['Katherine', 'Bruce', 'Taylor']\n",
    "last_names = ['Johnson', 'Lee', 'Swift', 'Frost']\n",
    "\n",
    "for first, last in zip(first_names, last_names, strict=True):\n",
    "    print(first, last)"
   ]
  },
  {
   "cell_type": "markdown",
   "id": "92b9cdb9-2755-4843-a075-781e059eb98e",
   "metadata": {
    "id": "NhRQWIZaljs2"
   },
   "source": [
    "## List Comprehensions (\"listcomps\")\n",
    "* quick/compact way to build a list\n",
    "* \"more readable\"/faster\n",
    "* which is easier to read?\n",
    "  * your answer will change over time..."
   ]
  },
  {
   "cell_type": "code",
   "execution_count": null,
   "id": "6a3e69dc-0232-4c42-9c91-b26ea9413090",
   "metadata": {
    "id": "djcpogveljs2"
   },
   "outputs": [],
   "source": [
    "# suppose we have a list of fruits\n",
    "# rather than typing it in the \"standard\" way, we'll use a Pythonic shortcut\n",
    "fruits = 'apple lemon cherry fig lime watermelon'.split()\n",
    "fruits"
   ]
  },
  {
   "cell_type": "markdown",
   "id": "968717ea-4b63-479e-8664-dc7c1fcbbd95",
   "metadata": {
    "id": "2AuqhNu7ljs2"
   },
   "source": [
    "#### Now suppose we want a \"parallel\" list containing the lengths of each fruit string\n",
    "* first we'll create that list the standard way..."
   ]
  },
  {
   "cell_type": "code",
   "execution_count": null,
   "id": "d3d930a0-3723-404d-b99d-63a18e6eb041",
   "metadata": {
    "id": "0LvPT0FKljs2"
   },
   "outputs": [],
   "source": [
    "fruit_lengths = []\n",
    "\n",
    "for fruit in fruits:\n",
    "    fruit_lengths.append()\n",
    "\n",
    "print(fruit_lengths)"
   ]
  },
  {
   "cell_type": "markdown",
   "id": "14c748ec-0488-42d9-94ef-a07b733b0e29",
   "metadata": {
    "id": "hhdXCDZiljs2"
   },
   "source": [
    "* and now with a list comprehension..."
   ]
  },
  {
   "cell_type": "code",
   "execution_count": null,
   "id": "bd599324-66f9-4ec8-8f0e-abdaa1374165",
   "metadata": {
    "id": "T8Cih6scljs2",
    "scrolled": true
   },
   "outputs": [],
   "source": [
    "fruit_lengths = [len(fruit) for fruit in fruits]\n",
    "\n",
    "print(fruit_lengths)"
   ]
  },
  {
   "cell_type": "markdown",
   "id": "1785664a-7479-411f-b42e-2afb94c836f7",
   "metadata": {
    "id": "ieQfQB2fljs2"
   },
   "source": [
    "## List Comprehensions (cont'd)\n",
    "* listcomps can generate a list from the Cartesian product of two or more iterables"
   ]
  },
  {
   "cell_type": "code",
   "execution_count": null,
   "id": "8d65b2b5-ed2d-428b-9d25-9a5c089ecdc9",
   "metadata": {
    "id": "GFyBKPwVljs2"
   },
   "outputs": [],
   "source": [
    "colors = ['black', 'white']\n",
    "sizes = ['S', 'M', 'L', 'XL']"
   ]
  },
  {
   "cell_type": "code",
   "execution_count": null,
   "id": "3d1ed839-54c9-4ef8-bb28-bde4e0252763",
   "metadata": {
    "id": "Zis07REzljs2"
   },
   "outputs": [],
   "source": [
    "tshirts = [[color, size] for size in sizes\n",
    "                             for color in colors]\n",
    "tshirts"
   ]
  },
  {
   "cell_type": "markdown",
   "id": "ba35e241-3bbd-49d9-b341-a051c7ba2cdd",
   "metadata": {
    "id": "PWX7ZFMcljs2"
   },
   "source": [
    "* we can also use list comprehensions to *filter* one list into another"
   ]
  },
  {
   "cell_type": "code",
   "execution_count": null,
   "id": "d4c2ed54-3261-4409-9019-0b3c587e6201",
   "metadata": {
    "id": "QtBvwR7-ljs3"
   },
   "outputs": [],
   "source": [
    "string = 'alphabet soup tastes great!'"
   ]
  },
  {
   "cell_type": "code",
   "execution_count": null,
   "id": "ba280dd3-739d-40d4-a28b-bdc7bfe86ae0",
   "metadata": {
    "id": "0_jAHk0Jljs3"
   },
   "outputs": [],
   "source": [
    "print(list(string))"
   ]
  },
  {
   "cell_type": "markdown",
   "id": "9d65ca8d-069a-478f-af90-12ecbc630c10",
   "metadata": {
    "id": "_Ryl2chWljs3"
   },
   "source": [
    "#### suppose we wanted to generate a list of all the consonants in a string, discarding vowels and spaces..."
   ]
  },
  {
   "cell_type": "code",
   "execution_count": null,
   "id": "b9d4503c-aac7-4b51-9ccb-f937150c9601",
   "metadata": {
    "id": "uGEdPCZPljs3"
   },
   "outputs": [],
   "source": [
    "consonants = [char for char in string\n",
    "                          if char not in 'aeiou! ']\n",
    "print(consonants)"
   ]
  },
  {
   "cell_type": "markdown",
   "id": "6a43246b-34a1-4ec7-8506-77f1950fbc68",
   "metadata": {},
   "source": [
    "## Lab: List Comprehensions\n",
    "*  Start with Cartesian product example (colors x sizes of t-shirts) and a\n",
    "*  add a third list, __`sleeves = ['short', 'long']`__ then write a new listcomp which generates the Cartesian product __`colors x sizes x sleeves`__. __`tshirts`__ should look like this:<pre><b>\n",
    "    [['black', 'S', 'short'],\n",
    "     ['black', 'S', 'long'],\n",
    "     ['black', 'M', 'short'],\n",
    "     ['black', 'M', 'long'],\n",
    "     ['black', 'L', 'short'],\n",
    "     ['black', 'L', 'long'],\n",
    "     ['white', 'S', 'short'],\n",
    "     ['white', 'S', 'long'],\n",
    "     ['white', 'M', 'short'],\n",
    "     ['white', 'M', 'long'],\n",
    "     ['white', 'L', 'short'],\n",
    "     ['white', 'L', 'long']]\n",
    "     \n",
    " </b></pre>\n",
    "* Use a list comprehension to create a list of the squares of the integers from 1 to 25 (i.e, 1, 4, 9, 16, …, 625)\n",
    "* Given a list of words, create a second list which contains all the words from the first list which do not end with a vowel\n",
    "* Use a list comprehension to create a list of the integers from 1 to 100 which are not divisible by 5\n",
    "* Use a list comprehension and __`zip()`__ to create a list of lists, where the list items are name and ID number that you grabbed from separate lists of names and ID numbers\n",
    "  * start with a list of, say, 5 names ['John', 'Mary', 'Edward', 'Linda', 'Dinesh']\n",
    "  * and a list of, say, 5 ID numbers [1003, 2043, 8762, 7862, 1093]\n",
    "  * additional wrinkle: do not include any names whose corresponding ID is -1"
   ]
  },
  {
   "cell_type": "markdown",
   "id": "1c1aa9c2-3fad-46fa-9e98-105bef4ba553",
   "metadata": {
    "id": "jlf1ImkRljs3"
   },
   "source": [
    "## Tuples\n",
    "* immutable data type\n",
    "* typically heterogeneous (cf. lists)\n",
    "* generally imply some structure\n",
    " * tuples typically represent a single object, but multiple aspects/attributes of it\n",
    " * if lists are typically used like the __columns__ of a spreadsheet...\n",
    "   * then tuples are typically the __rows__..."
   ]
  },
  {
   "cell_type": "code",
   "execution_count": null,
   "id": "7e57e47d-f0aa-4ac4-a582-b580c1d7dba4",
   "metadata": {
    "id": "AoKF1lNhljs3"
   },
   "outputs": [],
   "source": [
    "t = () # empty tuple (cf. empty list...[])\n",
    "t"
   ]
  },
  {
   "cell_type": "code",
   "execution_count": null,
   "id": "8be6008b-26ad-409f-a2ed-11762e4466ee",
   "metadata": {
    "id": "SAo-zcLLljs3"
   },
   "outputs": [],
   "source": [
    "type(t)"
   ]
  },
  {
   "cell_type": "code",
   "execution_count": null,
   "id": "47cbb928-1341-4640-82a9-7e82d0aa973a",
   "metadata": {
    "id": "3X-eSTPTljs3"
   },
   "outputs": [],
   "source": [
    "t = (3,) # \"singleton tuple\""
   ]
  },
  {
   "cell_type": "code",
   "execution_count": null,
   "id": "201a7f7d-f161-4a9b-ab66-8fbcf4ee5435",
   "metadata": {
    "id": "Zvt8Zxo_ljs3",
    "scrolled": true
   },
   "outputs": [],
   "source": [
    "t"
   ]
  },
  {
   "cell_type": "code",
   "execution_count": null,
   "id": "2e43a89c-07d5-4bc0-903b-34b292f66bc2",
   "metadata": {
    "id": "B3noiW03ljs3"
   },
   "outputs": [],
   "source": [
    "t = 'Jones', 'John', 1023, True # no parens\n",
    "t"
   ]
  },
  {
   "cell_type": "code",
   "execution_count": null,
   "id": "b5c7ae16-c2c6-4949-bb46-0721c6f7c7ed",
   "metadata": {
    "id": "H6dhe5iVljs3"
   },
   "outputs": [],
   "source": [
    "# tuple unpacking\n",
    "last_name, first_name, employee_num, full_time = t"
   ]
  },
  {
   "cell_type": "code",
   "execution_count": null,
   "id": "9a1482ef-c3ef-4d92-89e7-a81279d8b5da",
   "metadata": {
    "id": "Ss8yPgealjs4"
   },
   "outputs": [],
   "source": [
    "employee_num # type(employee_num)"
   ]
  },
  {
   "cell_type": "code",
   "execution_count": null,
   "id": "9524f694-1946-4112-8396-2d946342f149",
   "metadata": {
    "id": "kNuaiiTVljs4"
   },
   "outputs": [],
   "source": [
    "something = input('Enter something: ')\n",
    "as_a_list = something.split() # split() always returns a list\n",
    "as_a_tuple = tuple(as_a_list) # tuple() always returns a tuple"
   ]
  },
  {
   "cell_type": "code",
   "execution_count": null,
   "id": "baa8826d-bc79-4a78-866c-62e98af2f35e",
   "metadata": {
    "id": "U64QdmKgljs4"
   },
   "outputs": [],
   "source": [
    "print(as_a_list, as_a_tuple, sep='\\n')"
   ]
  },
  {
   "cell_type": "code",
   "execution_count": null,
   "id": "93210e9a-6513-4245-952b-368fefd68641",
   "metadata": {
    "id": "2B4c8UAVljs4"
   },
   "outputs": [],
   "source": [
    "person = 'Sara Breedlove', 1867, 'Louisiana'"
   ]
  },
  {
   "cell_type": "code",
   "execution_count": null,
   "id": "ff530471-459b-4e28-bb79-07f95d96bf37",
   "metadata": {
    "id": "vZHQ3jFtljs4"
   },
   "outputs": [],
   "source": [
    "person[-1]"
   ]
  },
  {
   "cell_type": "code",
   "execution_count": null,
   "id": "769569a4-858a-4b72-8d8e-bdaab747d66d",
   "metadata": {
    "id": "prB-uDwtljs4"
   },
   "outputs": [],
   "source": [
    "person[1] = 1868"
   ]
  },
  {
   "cell_type": "markdown",
   "id": "4731b1c2-f8f8-4a0f-b112-24fc3547cca2",
   "metadata": {
    "id": "3y-wSC2eljs4"
   },
   "source": [
    "## Lab: Tuples\n",
    "* We don't really know enough yet to use a tuple in interesting ways, so instead let's just tinker around with tuples here in the notebook...\n",
    "  * Create a tuple representing a city w/fields of your own choosing (e.g., city name, state/country, population, elevation, etc.)\n",
    "  * \"Add\" a field to the tuple–since tuples are immutable, you will have to do this by concatenating tuples\n",
    "  * Using the _in_ operator, check to see if a particular value is in the tuple\n",
    "  * Using the __`.index()`__ method, find the position of a particular value in the tuple"
   ]
  },
  {
   "cell_type": "markdown",
   "id": "1f482215-2887-4fe6-a364-8534adb3874b",
   "metadata": {
    "id": "tAvkRLTiljs4"
   },
   "source": [
    "## Recap: Tuples\n",
    "* not just \"constant lists\"\n",
    " (see http://jtauber.com/blog/2006/04/15/python_tuples_are_not_just_constant_lists)\n",
    "* remember that lists are (typically) ordered sequences of homogeneous values (i.e., Excel/DB column)\n",
    "* and tuples typically imply some structure and refer to multiple attributes of ONE item (person, country, building, etc.)\n",
    "   * i.e., database/Excel row"
   ]
  },
  {
   "cell_type": "markdown",
   "id": "a1a1b942-f17b-4b00-937b-e176b2e39bbd",
   "metadata": {
    "id": "Q6B8HPCyljs4"
   },
   "source": [
    "\n",
    "# Dictionaries\n",
    "* \"unordered\" grouping of key/value pairs\n",
    "* sometimes called a \"map\", \"hashmap\", or \"associative array\""
   ]
  },
  {
   "cell_type": "code",
   "execution_count": null,
   "id": "95668bd7-00d9-49fc-b1c8-eaa20971ea57",
   "metadata": {
    "id": "zjqeWF6zljs4"
   },
   "outputs": [],
   "source": [
    "d = {} # empty dict"
   ]
  },
  {
   "cell_type": "code",
   "execution_count": null,
   "id": "37ac5ee6-14fd-4c28-a87b-0dbcab5c4e91",
   "metadata": {
    "id": "h-UjTCB7ljs4"
   },
   "outputs": [],
   "source": [
    "d = { 'X': 10, 'V': 5, 'I': 1 } # can be initialized when declared"
   ]
  },
  {
   "cell_type": "code",
   "execution_count": null,
   "id": "5543f672-3e90-4d5a-88ae-6cfd2710577c",
   "metadata": {
    "colab": {
     "base_uri": "https://localhost:8080/"
    },
    "id": "TRUHwCwmljs4",
    "outputId": "91389282-e5f7-4c3d-d7a7-904fccc3afd2",
    "tags": []
   },
   "outputs": [],
   "source": [
    "d"
   ]
  },
  {
   "cell_type": "code",
   "execution_count": null,
   "id": "83dd8540-7d23-4531-8bb1-8949aa83a032",
   "metadata": {
    "colab": {
     "base_uri": "https://localhost:8080/"
    },
    "id": "mZuvlI4kljs4",
    "outputId": "30f188f6-8504-4824-f864-83428df2a66d",
    "scrolled": true,
    "tags": []
   },
   "outputs": [],
   "source": [
    "d['L'] = 50 # add something to the dict\n",
    "print(d)"
   ]
  },
  {
   "cell_type": "code",
   "execution_count": null,
   "id": "13ea2d9d-f322-4d47-b4c5-f508d1bfea66",
   "metadata": {
    "colab": {
     "base_uri": "https://localhost:8080/"
    },
    "id": "N-EPBACMljs4",
    "outputId": "9ad5be75-8fb2-4c52-ac76-6053a15ba549",
    "tags": []
   },
   "outputs": [],
   "source": [
    "# iterating through a dict iterates through the keys\n",
    "for thing in d: # for thing in container\n",
    "    print(thing, end=' ')"
   ]
  },
  {
   "cell_type": "code",
   "execution_count": null,
   "id": "c06ac32c-9c55-41b6-850c-63f5af9a8f1a",
   "metadata": {
    "colab": {
     "base_uri": "https://localhost:8080/"
    },
    "id": "yBgQncggljs4",
    "outputId": "b50a1f61-e2f2-4d5d-c180-83d0efb10883",
    "tags": []
   },
   "outputs": [],
   "source": [
    "# ...of course we can print the values while iterating\n",
    "for thing in d:\n",
    "    print(thing, d[thing])"
   ]
  },
  {
   "cell_type": "code",
   "execution_count": null,
   "id": "2d17a637-2881-4f07-a04a-84a60b264f68",
   "metadata": {
    "colab": {
     "base_uri": "https://localhost:8080/"
    },
    "id": "wci3PLhzljs4",
    "outputId": "33271c4b-dd55-45cb-9c7c-0ce316c232d2",
    "tags": []
   },
   "outputs": [],
   "source": [
    "sbux_dict = {'venti': 20, 'tall': 12, 'grande': 16}\n",
    "print(sbux_dict)"
   ]
  },
  {
   "cell_type": "code",
   "execution_count": null,
   "id": "d863e276-9cb2-4d7b-b9af-6d822f4f5fe3",
   "metadata": {
    "colab": {
     "base_uri": "https://localhost:8080/"
    },
    "id": "aUGnABzNljs5",
    "outputId": "136cfd71-97ac-4180-dae5-7b99986e042e",
    "scrolled": true,
    "tags": []
   },
   "outputs": [],
   "source": [
    "print(sbux_dict.keys(), sbux_dict.values(), sbux_dict.items(), sep='\\n')"
   ]
  },
  {
   "cell_type": "code",
   "execution_count": null,
   "id": "24681274-78fe-4a30-a344-ab8366f44db0",
   "metadata": {
    "colab": {
     "base_uri": "https://localhost:8080/"
    },
    "id": "hEWNnFwKljs5",
    "outputId": "cd8303e6-5e08-4058-d26f-91b5e2ff0ac4"
   },
   "outputs": [],
   "source": [
    "total_ounces = 0\n",
    "for amount in sbux_dict.values():\n",
    "    total_ounces += amount\n",
    "\n",
    "total_ounces"
   ]
  },
  {
   "cell_type": "code",
   "execution_count": null,
   "id": "5c017fa1-7278-4728-beac-16b8fe9c4d76",
   "metadata": {
    "colab": {
     "base_uri": "https://localhost:8080/"
    },
    "id": "KHYLr-5Gljs5",
    "outputId": "73737afe-dc04-49fd-8f1c-731ee973c164"
   },
   "outputs": [],
   "source": [
    "sum(sbux_dict.values())"
   ]
  },
  {
   "cell_type": "markdown",
   "id": "d9d11382-3c00-45f7-8882-de4df915b872",
   "metadata": {
    "id": "tvV4FJX-ljs5"
   },
   "source": [
    "## __`get()`__: Dealing with missing dict values"
   ]
  },
  {
   "cell_type": "code",
   "execution_count": null,
   "id": "78643741-d418-4c1b-94f0-53492116d22b",
   "metadata": {
    "id": "hSJWxW-Wljs5"
   },
   "outputs": [],
   "source": [
    "d = {'foo': 'bar'}"
   ]
  },
  {
   "cell_type": "code",
   "execution_count": null,
   "id": "523fe5f3-69c1-4d09-87ee-977c45806d0f",
   "metadata": {
    "colab": {
     "base_uri": "https://localhost:8080/",
     "height": 35
    },
    "id": "0cts436nljs5",
    "outputId": "eddab094-5e07-4ed3-c4ff-e7294095cbba"
   },
   "outputs": [],
   "source": [
    "d['foo']"
   ]
  },
  {
   "cell_type": "code",
   "execution_count": null,
   "id": "fd04a2d6-75f1-4462-badb-305c82a2ed3f",
   "metadata": {
    "colab": {
     "base_uri": "https://localhost:8080/",
     "height": 141
    },
    "id": "JgQ1jcl-ljs5",
    "outputId": "c94442ec-fac3-4fe0-ae3c-e8fa2b193947"
   },
   "outputs": [],
   "source": [
    "d['food']"
   ]
  },
  {
   "cell_type": "code",
   "execution_count": null,
   "id": "d0004060-3150-48e1-844c-56d21bc0ed81",
   "metadata": {
    "id": "309oTaIJljs5"
   },
   "outputs": [],
   "source": [
    "if 'foot' in d: # is 'foot' a key in this dict\n",
    "    print(d['foot'])\n",
    "# or just... d.get('foot')"
   ]
  },
  {
   "cell_type": "code",
   "execution_count": null,
   "id": "043294a1-255a-42b1-918a-2b46a02e6913",
   "metadata": {
    "colab": {
     "base_uri": "https://localhost:8080/"
    },
    "id": "uYvyWiPMljs5",
    "outputId": "e7ca6e75-c2b8-48a1-f097-93f79db68f86"
   },
   "outputs": [],
   "source": [
    "print(d.get('food', 0))"
   ]
  },
  {
   "cell_type": "code",
   "execution_count": null,
   "id": "cb2f670e-941f-4841-9a42-b1f9876ae267",
   "metadata": {
    "colab": {
     "base_uri": "https://localhost:8080/"
    },
    "id": "b9HpXp98ljs5",
    "outputId": "e85e1aa9-6595-4852-d056-88eeaa0c9b0d"
   },
   "outputs": [],
   "source": [
    "# what if we sort a dict?\n",
    "for key in sorted(sbux_dict):\n",
    "    print(key, sbux_dict[key])"
   ]
  },
  {
   "cell_type": "code",
   "execution_count": null,
   "id": "06dbbd4b-40bb-4f3f-9aa2-7cd06306ee3c",
   "metadata": {
    "colab": {
     "base_uri": "https://localhost:8080/"
    },
    "id": "_VI2DUjoljs5",
    "outputId": "01ec453c-87be-4912-9fa2-7f033c015f84"
   },
   "outputs": [],
   "source": [
    "# In order to iterate in order, we have to sort the\n",
    "# dict by value (as opposed to key)\n",
    "# By default, sorted() will sort by key--\n",
    "# usually not what we want!\n",
    "\n",
    "for k in sorted(sbux_dict, key=sbux_dict.get):\n",
    "    print(k, '=>', sbux_dict[k])"
   ]
  },
  {
   "cell_type": "markdown",
   "id": "00af8788-cd33-4961-aa64-28d2464f4baf",
   "metadata": {
    "id": "s24R82CFljs5"
   },
   "source": [
    "## Removing items from a dict\n",
    "* __`del`__ = remove an item from the dict\n",
    "* __`dict.pop(key)`__ = remove item and return value\n",
    "* __`dict.clear()`__ = empty out the dict"
   ]
  },
  {
   "cell_type": "code",
   "execution_count": null,
   "id": "19fe9ad0-4b59-4d4d-8c75-2686245fa18f",
   "metadata": {
    "colab": {
     "base_uri": "https://localhost:8080/"
    },
    "id": "NMNd4npFljs5",
    "outputId": "7aea519b-a8e5-4830-fa2d-98b98c075867"
   },
   "outputs": [],
   "source": [
    "mydict = {'trenta': 31, 'grande': 16, 'venti': 20, 'tall': 12}\n",
    "print(mydict)"
   ]
  },
  {
   "cell_type": "code",
   "execution_count": null,
   "id": "533960d0-e5b9-43fe-8408-2fa9680cbaaf",
   "metadata": {
    "colab": {
     "base_uri": "https://localhost:8080/"
    },
    "id": "dgQuiqwLljs5",
    "outputId": "72ddf7de-94f4-46bd-f8e1-18263c3ddc97"
   },
   "outputs": [],
   "source": [
    "del mydict['trenta']\n",
    "print(mydict)"
   ]
  },
  {
   "cell_type": "code",
   "execution_count": null,
   "id": "55f575a4-a541-425e-84d6-ecd4a7ccfa8e",
   "metadata": {
    "colab": {
     "base_uri": "https://localhost:8080/"
    },
    "id": "uqCxHoH3ljs5",
    "outputId": "bd36aa43-2bfc-4580-c776-6637f005adba"
   },
   "outputs": [],
   "source": [
    "print(mydict.pop('venti'))"
   ]
  },
  {
   "cell_type": "code",
   "execution_count": null,
   "id": "22bf6032-db85-4311-b570-e8cceec3cb6a",
   "metadata": {
    "id": "8mS4WbFaljs6"
   },
   "outputs": [],
   "source": [
    "print(mydict)"
   ]
  },
  {
   "cell_type": "code",
   "execution_count": null,
   "id": "4a7cef0c-e77b-4b16-9f81-27f4670e67e5",
   "metadata": {
    "id": "nzaENF30ljs6"
   },
   "outputs": [],
   "source": [
    "mydict.clear()\n",
    "mydict"
   ]
  },
  {
   "cell_type": "markdown",
   "id": "a0990b79-57f4-4d66-b7b0-5cf6615afe9e",
   "metadata": {
    "id": "B9p0N67pljs6"
   },
   "source": [
    "## Lab: dictionary\n",
    "* use a dict to translate Roman numerals into their Hindu-Arabic equivalents\n",
    "1. load the dict with Roman numerals M (1000), D (500), C (100), L (50), X (10), V (5), I (1)\n",
    "2. read in a Roman numeral\n",
    "3. print Arabic equivalent\n",
    "4. try it with MCLX = 1000 + 100 + 50 + 10 = 1160\n"
   ]
  },
  {
   "cell_type": "markdown",
   "id": "75ca8a1c-a7d8-444a-a8b5-b4a5099521c1",
   "metadata": {
    "id": "-GzqZYgDoq3H"
   },
   "source": [
    "## Lab: Time Permitting/Homework\n",
    "1. Deal with the case where a smaller digit precedes a larger number, which means you _subtract_ the first from the second, rather than add them\n",
    "e.g.,\n",
    "  * __IX = 10 - 1 = 9__\n",
    "  * __XC = 100 - 10 = 90__\n",
    "  * __MCM = 1000 + (1000 - 100) = 1900__\n",
    "  * __MCMXCIX = 1999__"
   ]
  },
  {
   "cell_type": "markdown",
   "id": "0a0921a2-f721-4b31-a198-c1bafaea2406",
   "metadata": {
    "id": "jU1BahhZljs6"
   },
   "source": [
    "## Sets\n",
    "* unordered collection, no duplicates\n",
    "* kind of a one-trick pony–remove duplicates"
   ]
  },
  {
   "cell_type": "code",
   "execution_count": null,
   "id": "bda00bf9-ce25-47ee-a915-978176cd059b",
   "metadata": {
    "colab": {
     "base_uri": "https://localhost:8080/"
    },
    "id": "qOPxwwuEljs6",
    "outputId": "8e0ee733-2bfa-4ef1-be68-843ac108ed35",
    "scrolled": true
   },
   "outputs": [],
   "source": [
    "s = { 'Annie', 'Betty', 'Cathy', 'Donna' }\n",
    "print(s)"
   ]
  },
  {
   "cell_type": "code",
   "execution_count": null,
   "id": "4e0e9baf-4612-49f6-9478-809481164c9a",
   "metadata": {
    "colab": {
     "base_uri": "https://localhost:8080/"
    },
    "id": "41xIECoSljs6",
    "outputId": "1b855f49-3124-4163-df6a-98c3decf0bd1"
   },
   "outputs": [],
   "source": [
    "s.add('Ellen')\n",
    "print(s)"
   ]
  },
  {
   "cell_type": "code",
   "execution_count": null,
   "id": "d8ab3ebc-0088-4801-b0b5-d3cbb7cc7278",
   "metadata": {
    "colab": {
     "base_uri": "https://localhost:8080/"
    },
    "id": "lT1DsLL3ljs6",
    "outputId": "9c7608e8-d6fd-42eb-db1b-46e724026858"
   },
   "outputs": [],
   "source": [
    "s.add('Annie')\n",
    "print(s)"
   ]
  },
  {
   "cell_type": "code",
   "execution_count": null,
   "id": "c62584c6-c365-41c8-9563-7583824c586c",
   "metadata": {
    "id": "a-OfVrwgljs6"
   },
   "outputs": [],
   "source": [
    "# we can use the 'in' operator\n",
    "if 'Annie' in s:\n",
    "    print('Yep!')"
   ]
  },
  {
   "cell_type": "markdown",
   "id": "ecd5bca5-54cc-4b31-8a2a-228c95b656a3",
   "metadata": {
    "id": "muGBsKZhljs6"
   },
   "source": [
    "## Deleting from a Set\n",
    "* __`remove(item)`__: remove an item if it's in the set\n",
    "* __`discard(item)`__: remove an item whether or not it's in the set\n",
    "* __`pop()`__: pops a random element out of the set"
   ]
  },
  {
   "cell_type": "code",
   "execution_count": null,
   "id": "e99d9cfd-e27d-4f49-8802-a887a0f9b990",
   "metadata": {
    "colab": {
     "base_uri": "https://localhost:8080/"
    },
    "id": "-2gocQvhljs6",
    "outputId": "b1740820-9db1-4f71-95d7-11c29b7d9920"
   },
   "outputs": [],
   "source": [
    "print(s)"
   ]
  },
  {
   "cell_type": "code",
   "execution_count": null,
   "id": "df607916-68d7-4303-aa02-3f697cc2ed16",
   "metadata": {
    "colab": {
     "base_uri": "https://localhost:8080/",
     "height": 141
    },
    "id": "hyM-DVPTljs6",
    "outputId": "af39e4a5-d0ec-4610-d626-da20c7cdac4f"
   },
   "outputs": [],
   "source": [
    "s.remove('Betty')"
   ]
  },
  {
   "cell_type": "code",
   "execution_count": null,
   "id": "610937c9-084e-4ac1-8b7a-d72778e54822",
   "metadata": {
    "colab": {
     "base_uri": "https://localhost:8080/"
    },
    "id": "aVHhFGGgljs6",
    "outputId": "29b471cd-2cde-41ca-ad17-eb2dfe0f266b"
   },
   "outputs": [],
   "source": [
    "print(s)"
   ]
  },
  {
   "cell_type": "code",
   "execution_count": null,
   "id": "c93ea0ca-5079-443e-b3b7-e3d6c7b29553",
   "metadata": {
    "id": "N7wT57GGljs6"
   },
   "outputs": [],
   "source": [
    "s.discard('Loren')"
   ]
  },
  {
   "cell_type": "code",
   "execution_count": null,
   "id": "fa6e9d71-6d14-4a7a-9869-8b656985bd2d",
   "metadata": {
    "colab": {
     "base_uri": "https://localhost:8080/"
    },
    "id": "87bPo_u-ljs6",
    "outputId": "498c1415-31c8-4afc-8c42-993f632419a6"
   },
   "outputs": [],
   "source": [
    "print(s)"
   ]
  },
  {
   "cell_type": "code",
   "execution_count": null,
   "id": "0315cd93-86f4-482c-b4e7-d33832b5ccbd",
   "metadata": {
    "colab": {
     "base_uri": "https://localhost:8080/"
    },
    "id": "hzemZqiVljs6",
    "outputId": "6d9363cd-56bf-44de-9e12-50ddab73685e"
   },
   "outputs": [],
   "source": [
    "print(s.pop())\n",
    "print(s)"
   ]
  },
  {
   "cell_type": "code",
   "execution_count": null,
   "id": "4067007c-9e47-4761-a42a-8f49d0545b6e",
   "metadata": {
    "colab": {
     "base_uri": "https://localhost:8080/"
    },
    "id": "lCQorLQTljs6",
    "outputId": "4933c4ec-4f1f-4c2c-ac37-0ab3622dac87"
   },
   "outputs": [],
   "source": [
    "while s: # while the set is non-empty\n",
    "    print(s.pop())"
   ]
  },
  {
   "cell_type": "markdown",
   "id": "39c82db4-2ba2-4762-85d9-1036e2f76007",
   "metadata": {
    "id": "7PC3Bz74m1kg"
   },
   "source": [
    "## Quick Lab: Common elements between two sets\n",
    "* Write a program that asks the user to input two lists and then finds and prints the common elements between them\n",
    "<pre><b>\n",
    "Enter a list of items: apple cherry banana lemon\n",
    "Enter a second list of items: apple guava banana lime\n",
    "Common elements: apple banana\n",
    "</b></pre>\n",
    "\n",
    "* Note: this uses a set method we haven't yet learned...how will you find it?"
   ]
  },
  {
   "cell_type": "markdown",
   "id": "c0f5889f-6135-4402-a8d1-505a74c59cb6",
   "metadata": {
    "id": "GOx1iSVBljs6"
   },
   "source": [
    "## Quick Lab: Sets\n",
    "* Use a set to find all of the unique words in the input and print them out in sorted order\n",
    "* If the user entered __There is no there there__, your program should print out\n",
    "   <pre><b>\n",
    "   is\n",
    "   no\n",
    "   there\n",
    "   </b></pre>\n",
    "* Note that `There` and `there` should be counted as the same word."
   ]
  },
  {
   "cell_type": "markdown",
   "id": "281cc502-7c98-464a-bf22-86ece71b48f7",
   "metadata": {
    "id": "ZGWkRFL3ljs6",
    "jp-MarkdownHeadingCollapsed": true
   },
   "source": [
    "## Sets Recap\n",
    "* unordered\n",
    "* no duplicates\n",
    "* use __`in`__ to test for membership\n"
   ]
  }
 ],
 "metadata": {
  "kernelspec": {
   "display_name": "Python 3 (ipykernel)",
   "language": "python",
   "name": "python3"
  },
  "language_info": {
   "codemirror_mode": {
    "name": "ipython",
    "version": 3
   },
   "file_extension": ".py",
   "mimetype": "text/x-python",
   "name": "python",
   "nbconvert_exporter": "python",
   "pygments_lexer": "ipython3",
   "version": "3.13.5"
  }
 },
 "nbformat": 4,
 "nbformat_minor": 5
}

{
 "cells": [
  {
   "cell_type": "markdown",
   "id": "35983424-3604-499a-80e7-cd611899cca7",
   "metadata": {
    "id": "z_d5qF2qrWjt"
   },
   "source": [
    "## Exceptions\n",
    "* errors detected during execution are called exceptions\n",
    "* exceptions are \"thrown\" and either \"caught\" by an exception handler, or propagated upward\n",
    "* \"…exceptions create hidden control-flow paths that are difficult for programmers to reason about\" –Weimer & Necula, \"Exceptional Situations and Program Reliability\"\n",
    "* ...but they are also Pythonic"
   ]
  },
  {
   "cell_type": "code",
   "execution_count": null,
   "id": "9040b4e0-b89a-488b-a057-d7cac6fe830a",
   "metadata": {
    "id": "L6LbK5lArWjt"
   },
   "outputs": [],
   "source": [
    "mylist = [1, 5, 10]\n",
    "mylist[1]"
   ]
  },
  {
   "cell_type": "code",
   "execution_count": null,
   "id": "323930d4-2f35-420f-989b-1261981184dd",
   "metadata": {
    "id": "bvMZBCRDrWjt"
   },
   "outputs": [],
   "source": [
    "mylist[5]"
   ]
  },
  {
   "cell_type": "code",
   "execution_count": null,
   "id": "84f4147b-82a0-4c9a-9fa8-0785e91ff24d",
   "metadata": {
    "id": "4UNOOsdwrWjt"
   },
   "outputs": [],
   "source": [
    "int('x')"
   ]
  },
  {
   "cell_type": "markdown",
   "id": "83f9f6f6-0206-46d8-a184-0d5ba602ff96",
   "metadata": {
    "id": "akKpjIy_rWjt"
   },
   "source": [
    "https://w3.cs.jmu.edu/spragunr/CS240_F14/activities/exceptions/exceptions.shtml"
   ]
  },
  {
   "cell_type": "markdown",
   "id": "3e21ccd9-f745-4770-88c5-cf06e7d872d4",
   "metadata": {
    "id": "Ewie9nz2rWjt"
   },
   "source": [
    "## Exceptions: __`try/except`__\n",
    "* __`try`__ block wraps code which may throw an exception, and __`except`__ block catches exception"
   ]
  },
  {
   "cell_type": "code",
   "execution_count": null,
   "id": "c047e3f6-b518-4092-bf09-a357ca2d67b3",
   "metadata": {
    "id": "61KYCr6CrWju"
   },
   "outputs": [],
   "source": [
    "try:\n",
    "    mylist[5] # could throw an IndexError\n",
    "except:\n",
    "    print('no element at offset 5')\n",
    "    # cleanup, reset, ...\n",
    "\n",
    "print('rest of program')"
   ]
  },
  {
   "cell_type": "markdown",
   "id": "23e49171-ab07-4342-bcb2-3b88c94df725",
   "metadata": {
    "id": "aeqNHCAzrWju"
   },
   "source": [
    "* problem? above example catches ALL exceptions, not just __`IndexError`__ we are expecting\n",
    "* best practice is to catch expected exceptions and let unexpected ones through, so as to avoid hidden errors"
   ]
  },
  {
   "cell_type": "code",
   "execution_count": null,
   "id": "906d9f6a-21f6-4361-95ca-1c47b1029b99",
   "metadata": {
    "id": "89LX5rlfrWju"
   },
   "outputs": [],
   "source": [
    "try:\n",
    "    print(mylist[1]) # could throw an IndexError\n",
    "    int('a')\n",
    "except IndexError:\n",
    "    print('Bad index! Try again!')\n",
    "except Exception as uhoh: # put the exception into the variable uhoh\n",
    "    print('Some other exception:', uhoh, type(uhoh))"
   ]
  },
  {
   "cell_type": "code",
   "execution_count": null,
   "id": "f496d5ad-3763-41be-8fab-d4965cb1b54b",
   "metadata": {
    "id": "0E4lmVdmrWju"
   },
   "outputs": [],
   "source": [
    "short_list = ['zero', 'one', 'two']\n",
    "\n",
    "while (value := input('Enter numeric index [q to quit]? ')) != 'q':\n",
    "    try:\n",
    "        position = int(value) # they could enter a non-int\n",
    "        print(short_list[position]) # fall off the list...\n",
    "    except IndexError:\n",
    "        print('Bad index:', value)\n",
    "    except ValueError:\n",
    "        print(\"Hey that's not a number!\")\n",
    "    except Exception as other:\n",
    "        print('Something else broke:', other, type(other))"
   ]
  },
  {
   "cell_type": "markdown",
   "id": "86a513b4-d7c2-4199-b294-21e5c890ad79",
   "metadata": {
    "id": "fDeLZHDHrWju"
   },
   "source": [
    "## Lab: Exceptions\n",
    "* modify all of your functions to include exception handlers as needed, e.g.,\n",
    " * __`calculate()`__ should catch the __`ZeroDivisionError`__ exception and print an informative message if the user tries to divide by zero\n",
    " * __`sumdigits()`__ should not crash due to non-digits\n",
    " * also take this time to add _docstrings_ if you haven't already\n"
   ]
  },
  {
   "cell_type": "markdown",
   "id": "c2c4df95-8b77-466e-9178-4e0ad5dd1bea",
   "metadata": {
    "id": "C1QVCfR2rWju"
   },
   "source": [
    "## Exceptions (cont'd)\n",
    "* important to minimize size of try block\n"
   ]
  },
  {
   "cell_type": "code",
   "execution_count": null,
   "id": "91f88b97-1b06-4830-8e5f-0f25224e7fb0",
   "metadata": {
    "id": "hRYG9Oh9rWju"
   },
   "outputs": [],
   "source": [
    "# pseudocode\n",
    "try:\n",
    "    dangerous_call()\n",
    "    after_call() # this can't throw an exception\n",
    "except OS_Error:\n",
    "    log('...')"
   ]
  },
  {
   "cell_type": "markdown",
   "id": "f8a6e6b2-a38b-4644-aebd-97cfb9159c2d",
   "metadata": {
    "id": "Pn1SbSw5rWju"
   },
   "source": [
    "* after_call() will only run if dangerous_call() doesn't throw an exception…So what's the problem?"
   ]
  },
  {
   "cell_type": "code",
   "execution_count": null,
   "id": "8efb3855-b60b-4a30-8273-f4d7c985b995",
   "metadata": {
    "id": "MwGmJHwKrWju"
   },
   "outputs": [],
   "source": [
    "# pseudocode\n",
    "try:\n",
    "    dangerous_call()\n",
    "except OS_Error:\n",
    "    log('...')\n",
    "else:\n",
    "    after_call() # implied: can't throw an exception"
   ]
  },
  {
   "cell_type": "markdown",
   "id": "d0cbc12e-6d98-4c7f-92dd-e01f4a30afdd",
   "metadata": {
    "id": "wt6XHox4rWju"
   },
   "source": [
    "* now it’s clear that try block is guarding against possible errors in __`dangerous_call()`__, not in __`after_call()`__ it’s also more obvious that __`after_call()`__ will only execute if no exceptions are raised in the try block"
   ]
  },
  {
   "cell_type": "markdown",
   "id": "577e489d-3059-4a87-bebd-15c462f2ca9f",
   "metadata": {
    "id": "I0qDUHXKrWju"
   },
   "source": [
    "## __The `finally` Block__\n",
    "* code in the finally block will be executed whether or not an exception is thrown"
   ]
  },
  {
   "cell_type": "code",
   "execution_count": null,
   "id": "e1a64809-ce77-4c50-bd80-1b5ced642dd5",
   "metadata": {
    "id": "J1v0keklrWju"
   },
   "outputs": [],
   "source": [
    "def func():\n",
    "    try:\n",
    "        i = int(input('\\nEnter a number: ')) # ValueError?\n",
    "        x = 1 / i # ZeroDivisionError?\n",
    "    except ValueError:\n",
    "        print('Not a number!')\n",
    "    except ZeroDivisionError:\n",
    "        print('Cannot divide by 0')\n",
    "        return\n",
    "    else:\n",
    "        print('Everything OK')\n",
    "    finally:\n",
    "        print('FINALLY: DO this either way!')\n",
    "\n",
    "func(), func(), func()"
   ]
  }
 ],
 "metadata": {
  "kernelspec": {
   "display_name": "Python 3 (ipykernel)",
   "language": "python",
   "name": "python3"
  },
  "language_info": {
   "codemirror_mode": {
    "name": "ipython",
    "version": 3
   },
   "file_extension": ".py",
   "mimetype": "text/x-python",
   "name": "python",
   "nbconvert_exporter": "python",
   "pygments_lexer": "ipython3",
   "version": "3.13.5"
  }
 },
 "nbformat": 4,
 "nbformat_minor": 5
}

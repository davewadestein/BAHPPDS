{
 "cells": [
  {
   "cell_type": "markdown",
   "id": "61478f7a-ff07-417d-ad17-5b4ddfc3d18b",
   "metadata": {
    "id": "hCu5CBH95_fe"
   },
   "source": [
    "## Indentation\n",
    "* colons and indentation demarcate or delineate blocks in Python\n",
    "* many other programming languages use braces {...}\n",
    "* what is a block?\n",
    "  * a group of 1+ statements"
   ]
  },
  {
   "cell_type": "code",
   "execution_count": 1,
   "id": "07505a31-e00d-4e14-9ca0-0096f0b9cf00",
   "metadata": {
    "id": "JqXBR4dT5_fe"
   },
   "outputs": [
    {
     "name": "stdout",
     "output_type": "stream",
     "text": [
      "Hey, number is even!\n",
      "This is part of the if block\n",
      "this is not part of the if block and is printed regardless\n"
     ]
    }
   ],
   "source": [
    "number = 10\n",
    "\n",
    "if number % 2 == 0: # this is an \"if statment\"–we are asking a question\n",
    "    print('Hey, number is even!')\n",
    "    print('This is part of the if block')\n",
    "\n",
    "print('this is not part of the if block and is printed regardless')\n"
   ]
  },
  {
   "cell_type": "markdown",
   "id": "f16429a1-91cf-43cf-8264-5b8bf67e50ef",
   "metadata": {
    "id": "3yhLYgUu5_fe"
   },
   "source": [
    "## Indentation (continued)\n",
    "*  indentation must be consistent throughout the block"
   ]
  },
  {
   "cell_type": "code",
   "execution_count": null,
   "id": "2b1395fc-934b-494c-aed4-af735d712546",
   "metadata": {
    "id": "fXfSzkgKuFdx"
   },
   "outputs": [],
   "source": [
    "if number == 1:\n",
    "    print('number is 1')\n",
    "    print('something else')"
   ]
  },
  {
   "cell_type": "markdown",
   "id": "e03f56c1-e871-46ea-ba2b-76ce2e48080b",
   "metadata": {
    "id": "t8wnUev35_fe"
   },
   "source": [
    "*  you can use any indentation you want as long as it's 4 spaces (PEP-8\n",
    "https://www.python.org/dev/peps/pep-0008/)"
   ]
  },
  {
   "cell_type": "markdown",
   "id": "12fcde62-8260-471d-a6fd-109a2a481609",
   "metadata": {
    "id": "IO9hLBvX5_fe"
   },
   "source": [
    "# __`if`__ statements\n",
    "* enable us to ask a question\n",
    "* no parens needed as they are in some other languages\n",
    "* __`elif`__ = else if"
   ]
  },
  {
   "cell_type": "code",
   "execution_count": null,
   "id": "d99c137e-e418-4e42-b06a-7e30282e1654",
   "metadata": {
    "id": "UqAs7qJ35_fe"
   },
   "outputs": [],
   "source": [
    "my_number = 37\n",
    "guess = int(input('Enter your guess (make sure it is an integer): '))\n",
    "\n",
    "if guess > my_number:\n",
    "    print('Guess was too high')\n",
    "elif guess < my_number:\n",
    "    print('Guess was too low')\n",
    "else:\n",
    "    print('You got it!')"
   ]
  },
  {
   "cell_type": "code",
   "execution_count": null,
   "id": "ec6e4979-8dda-496b-a069-f9a0dc54dfd4",
   "metadata": {
    "id": "-YrTmlx15_ff"
   },
   "outputs": [],
   "source": [
    "x = 7"
   ]
  },
  {
   "cell_type": "code",
   "execution_count": null,
   "id": "93362357-faed-45b8-9281-202c836bf95a",
   "metadata": {
    "id": "RVE44Geb5_ff"
   },
   "outputs": [],
   "source": [
    "5 < x"
   ]
  },
  {
   "cell_type": "code",
   "execution_count": null,
   "id": "41025bcd-ec98-4921-8857-6c086c3984e7",
   "metadata": {
    "id": "stcknKzW5_ff"
   },
   "outputs": [],
   "source": [
    "x < 9"
   ]
  },
  {
   "cell_type": "code",
   "execution_count": null,
   "id": "089ea28b-2c1b-4718-a67b-da48c7421afc",
   "metadata": {
    "id": "iWPYuIeB5_ff"
   },
   "outputs": [],
   "source": [
    "5 < x and x < 9 # many programming languages use &&"
   ]
  },
  {
   "cell_type": "code",
   "execution_count": null,
   "id": "7fe3ae28-4902-4d40-9f1a-4a0cbfbc27b2",
   "metadata": {
    "id": "fybvz3Ou5_ff"
   },
   "outputs": [],
   "source": [
    "(5 < x) and (x < 9)"
   ]
  },
  {
   "cell_type": "code",
   "execution_count": null,
   "id": "f5d16afe-a9a0-4937-9761-f6b266a99a07",
   "metadata": {
    "id": "X57y6-4I5_ff"
   },
   "outputs": [],
   "source": [
    "5 < x < 9"
   ]
  },
  {
   "cell_type": "markdown",
   "id": "8592c140-a9cb-4c6d-992b-5f9b34b8b27c",
   "metadata": {},
   "source": [
    "## __`if`__ shorthand\n",
    "* also called the \"ternary operator\""
   ]
  },
  {
   "cell_type": "code",
   "execution_count": 2,
   "id": "39b3efb1-0c30-41d9-b4f6-f3f5b56a99a2",
   "metadata": {},
   "outputs": [
    {
     "name": "stdout",
     "output_type": "stream",
     "text": [
      "non-negative\n"
     ]
    }
   ],
   "source": [
    "# suppose you have the following if statement...\n",
    "if number > 0:\n",
    "    print('non-negative')\n",
    "else:\n",
    "    print('negative')"
   ]
  },
  {
   "cell_type": "code",
   "execution_count": 4,
   "id": "6d113ab1-e7fb-4fc8-95f6-b342383dd1be",
   "metadata": {},
   "outputs": [
    {
     "name": "stdout",
     "output_type": "stream",
     "text": [
      "non-negative\n"
     ]
    }
   ],
   "source": [
    "# while entirely correct, it can also be written as\n",
    "print('non-negative') if number > 0 else print('negative')"
   ]
  },
  {
   "cell_type": "code",
   "execution_count": 15,
   "id": "e400b8f5-bc60-4d51-a02b-ac06daaa0651",
   "metadata": {},
   "outputs": [
    {
     "name": "stdout",
     "output_type": "stream",
     "text": [
      "81\n"
     ]
    }
   ],
   "source": [
    "# or suppose you are assigning a variable, rather than print-ing\n",
    "number = 9\n",
    "\n",
    "# ... later ...\n",
    "\n",
    "if number > 0:\n",
    "    result = number * number\n",
    "else:\n",
    "    result = 0\n",
    "\n",
    "print(result)"
   ]
  },
  {
   "cell_type": "code",
   "execution_count": 14,
   "id": "385261c4-4a2b-4fec-af6d-7b401a2e1b6a",
   "metadata": {},
   "outputs": [
    {
     "name": "stdout",
     "output_type": "stream",
     "text": [
      "0\n"
     ]
    }
   ],
   "source": [
    "# using the ternary operator, we can write...\n",
    "result = number * number if number > 0 else 0\n",
    "\n",
    "print(result)"
   ]
  },
  {
   "cell_type": "markdown",
   "id": "6d331ebb-6a59-4794-ab29-71f4ea601423",
   "metadata": {
    "id": "JwLcBjta5_fe"
   },
   "source": [
    "# Comparison Operators\n",
    "\n",
    "| operator | meaning |\n",
    "|---|---|\n",
    "| == | equality  |\n",
    "| != | inequality|\n",
    "| < | less than |\n",
    "| <= | less than or equals |\n",
    "| > | greater than |\n",
    "| >= | greater than or equals |\n",
    "| in | membership"
   ]
  },
  {
   "cell_type": "code",
   "execution_count": null,
   "id": "bfc557d2-debd-4112-b24c-c5e7725e8999",
   "metadata": {
    "id": "-YrTmlx15_ff"
   },
   "outputs": [],
   "source": [
    "x = 7"
   ]
  },
  {
   "cell_type": "code",
   "execution_count": null,
   "id": "5371bab6-e219-4f42-a24b-f48ba4aa17a5",
   "metadata": {
    "id": "RVE44Geb5_ff"
   },
   "outputs": [],
   "source": [
    "5 < x"
   ]
  },
  {
   "cell_type": "code",
   "execution_count": null,
   "id": "d74a5a42-27ee-4a3d-ac5a-19f04247abdb",
   "metadata": {
    "id": "stcknKzW5_ff"
   },
   "outputs": [],
   "source": [
    "x < 9"
   ]
  },
  {
   "cell_type": "code",
   "execution_count": null,
   "id": "202e679e-02d3-4695-a8ea-a86350c06d14",
   "metadata": {
    "id": "iWPYuIeB5_ff"
   },
   "outputs": [],
   "source": [
    "5 < x and x < 9 # many programming languages use &&"
   ]
  },
  {
   "cell_type": "code",
   "execution_count": null,
   "id": "765b2e48-1a6f-42e1-93cb-9ace8459ca58",
   "metadata": {
    "id": "fybvz3Ou5_ff"
   },
   "outputs": [],
   "source": [
    "(5 < x) and (x < 9)"
   ]
  },
  {
   "cell_type": "code",
   "execution_count": null,
   "id": "8211dbde-fc67-4305-810f-503d945205e4",
   "metadata": {
    "id": "X57y6-4I5_ff"
   },
   "outputs": [],
   "source": [
    "5 < x < 9 # only language I know of that does this right"
   ]
  },
  {
   "cell_type": "markdown",
   "id": "f3014adf-cc40-46d4-a275-b1e6cdd9c32d",
   "metadata": {
    "id": "njH9wj755_ff",
    "jp-MarkdownHeadingCollapsed": true
   },
   "source": [
    "## Loops\n",
    "* enable us to repeat an action\n",
    "* two kinds of loops in Python\n",
    " * __`while`__ loops (\"do something until a condition becomes false\")\n",
    " * __`for`__ loops (\"do something a certain number of times\")"
   ]
  },
  {
   "cell_type": "markdown",
   "id": "8201d84e-ecb4-420c-9bc3-d6b7d85dbd29",
   "metadata": {
    "id": "7_3TtB9l5_ff"
   },
   "source": [
    "## __`while`__ loop example"
   ]
  },
  {
   "cell_type": "code",
   "execution_count": null,
   "id": "795a1757-8c36-4c00-8054-82ea4f7278ce",
   "metadata": {
    "colab": {
     "base_uri": "https://localhost:8080/"
    },
    "id": "WnDewh8j5_ff",
    "outputId": "bd93c9bf-79cc-47cf-af64-5bae4842eb99"
   },
   "outputs": [],
   "source": [
    "import random # \"batteries included\"\n",
    "\n",
    "my_number = random.randint(1, 100)\n",
    "guess = 0 # \"prime the pump\"\n",
    "guess_count = 0\n",
    "\n",
    "while guess != my_number: # loop until...?\n",
    "    guess = int(input('Enter your guess (enter 0 to give up): ')) # get input\n",
    "    # deal with invalid input...\n",
    "    if guess < 1 or guess > 100:\n",
    "        print('Invalid guess: must be between 1 and 100')\n",
    "        continue\n",
    "    guess_count += 1 # increment the guess count\n",
    "\n",
    "    # respond to user, based on valid input\n",
    "    if guess == 0:\n",
    "        print(\"Sorry that you're giving up!\")\n",
    "        break # leave the loop immediately (abnormal termination)\n",
    "    elif guess > my_number:\n",
    "        print(\"Guess was too high\")\n",
    "    elif guess < my_number:\n",
    "        print(\"Guess was too low\")\n",
    "    else:\n",
    "        print(\"You got it!\")"
   ]
  },
  {
   "cell_type": "markdown",
   "id": "8f45061b-5df6-4e0c-9d0a-025411110bf5",
   "metadata": {
    "id": "2i1rIggX5_ff"
   },
   "source": [
    "## __`for`__ loop example\n",
    "* typically used to iterate through an _container_ (string and others we haven't learned yet) one element at a time\n",
    "* _\"for thing in container\"_"
   ]
  },
  {
   "cell_type": "code",
   "execution_count": null,
   "id": "1193b47a-1c32-4be8-836f-bb99ad7d14f2",
   "metadata": {
    "colab": {
     "base_uri": "https://localhost:8080/"
    },
    "id": "vk881_Fj5_ff",
    "outputId": "ceaf2afc-0900-4b0a-8690-acfeb4fa2d8d",
    "scrolled": true
   },
   "outputs": [],
   "source": [
    "for character in 'Python': # for each element in the container\n",
    "    print(character)"
   ]
  },
  {
   "cell_type": "markdown",
   "id": "c6b01fdb-bb57-44d8-b27a-35e9bbda20ce",
   "metadata": {
    "id": "aC65bPk-5_ff"
   },
   "source": [
    "## Sequences are also iterable\n"
   ]
  },
  {
   "cell_type": "code",
   "execution_count": null,
   "id": "cb1be91f-b047-4158-a44d-d6186876df2d",
   "metadata": {
    "colab": {
     "base_uri": "https://localhost:8080/"
    },
    "id": "RLepP8cY5_ff",
    "outputId": "f56e61b4-b517-48ca-c893-571fa9108c92"
   },
   "outputs": [],
   "source": [
    "for number in range(1, 10): # \"for thing in container\"\n",
    "    print(number)"
   ]
  },
  {
   "cell_type": "code",
   "execution_count": null,
   "id": "eea930c9-960e-45eb-9648-8eb4d31f982d",
   "metadata": {
    "colab": {
     "base_uri": "https://localhost:8080/"
    },
    "id": "EXCLbEBDUYZz",
    "outputId": "b6581f11-333d-4864-a8fc-cb37304617d3"
   },
   "outputs": [],
   "source": [
    "for number in range(1, 10, 2):\n",
    "    print(number)"
   ]
  },
  {
   "cell_type": "code",
   "execution_count": null,
   "id": "4f8d0df6-fb24-4f2a-afe2-f2bce66d09e8",
   "metadata": {
    "colab": {
     "base_uri": "https://localhost:8080/"
    },
    "id": "a0S6VRo15_ff",
    "outputId": "b28866e5-96a8-4474-a6bd-cf800fc2805f",
    "scrolled": true
   },
   "outputs": [],
   "source": [
    "for num in range(10, 0):\n",
    "    print(num)\n",
    "print('blast off!')"
   ]
  },
  {
   "cell_type": "code",
   "execution_count": null,
   "id": "1c0e57a7-b6b9-44e3-88d3-faf438e868c0",
   "metadata": {
    "colab": {
     "base_uri": "https://localhost:8080/"
    },
    "id": "fB4cdPsP5_ff",
    "outputId": "f17a6d2c-dc48-48e4-b504-25f0272b1178",
    "scrolled": true
   },
   "outputs": [],
   "source": [
    "for num in range(-5, 6): # -5 ... 5\n",
    "    if num == 0:\n",
    "        continue # \"syntactic sugar\" (not needed, but nice to have)\n",
    "    print(1 / num, end=' ')"
   ]
  },
  {
   "cell_type": "code",
   "execution_count": 1,
   "id": "7bcbb13a-40da-46bd-aec7-e50b2aaa9f0e",
   "metadata": {},
   "outputs": [
    {
     "name": "stdout",
     "output_type": "stream",
     "text": [
      "RED\n",
      "GREEN\n",
      "YELLOW\n",
      "RED\n",
      "GREEN\n",
      "YELLOW\n",
      "RED\n",
      "GREEN\n",
      "YELLOW\n"
     ]
    }
   ],
   "source": [
    "light = 'RED'\n",
    "\n",
    "for times in range(9):\n",
    "    print(light)\n",
    "    if light == 'RED':\n",
    "        light = 'GREEN'\n",
    "    elif light == 'GREEN':\n",
    "        light = 'YELLOW'\n",
    "    else:\n",
    "        light = 'RED'"
   ]
  },
  {
   "cell_type": "code",
   "execution_count": null,
   "id": "bbee0f1e-f080-4db7-885f-04923348605d",
   "metadata": {},
   "outputs": [],
   "source": []
  },
  {
   "cell_type": "markdown",
   "id": "e4898250-073b-42e1-8e1f-8d9c90289648",
   "metadata": {
    "id": "HZah9Su45_ff"
   },
   "source": [
    "## Quick Lab: Loops/Strings\n",
    "* have the user enter a string, then loop through the string to generate (or print) a new string in which every character is duplicated, e.g., \"Python\" => \"PPyytthhoonn\""
   ]
  },
  {
   "cell_type": "markdown",
   "id": "a839ba50-2789-4e73-9017-b6a79b6a395a",
   "metadata": {
    "id": "5q9k5xNdUs6d"
   },
   "source": [
    "## Quick Lab: Loops/Numbers\n",
    "* write Python code to generate a 6-digit access/security code, like you get when your try to log in to a website and it sends a code to your phone...e.g., 031728"
   ]
  },
  {
   "cell_type": "markdown",
   "id": "4e1d3604-400f-4c92-adb7-22e8fd8448e7",
   "metadata": {
    "id": "UJ22Z3N-5_ff"
   },
   "source": [
    "## Lab: Fibonacci \n",
    "* write code to print out the Fibonacci sequence up to a number of the user's choosing\n",
    "* user will enter either number of Fibonacci numbers they want to see or the maximum Fibonacci number they want to see (either a for loop or while loop)\n",
    "* first Fibonacci is 1, second Fibonacci is also 1, and every subsequent Fibonacci number is the sum of the previous two (1, 1, 2, 3, 5, 8, 13, 21, 34, ...)"
   ]
  },
  {
   "cell_type": "markdown",
   "id": "52238556-ba44-493f-9f22-bf6f9bf46385",
   "metadata": {},
   "source": [
    "## Loops: Recap\n",
    "* __`for`__ loop is more common\n",
    "* __`break`__ exits loop immediately (abnormal termination)\n",
    "* __`continue`__ skips remainder of loop and starts next iteration"
   ]
  },
  {
   "cell_type": "code",
   "execution_count": null,
   "id": "ccce7d5f-4cef-4dd6-839a-34d3681847c8",
   "metadata": {},
   "outputs": [],
   "source": []
  }
 ],
 "metadata": {
  "kernelspec": {
   "display_name": "Python 3 (ipykernel)",
   "language": "python",
   "name": "python3"
  },
  "language_info": {
   "codemirror_mode": {
    "name": "ipython",
    "version": 3
   },
   "file_extension": ".py",
   "mimetype": "text/x-python",
   "name": "python",
   "nbconvert_exporter": "python",
   "pygments_lexer": "ipython3",
   "version": "3.13.5"
  }
 },
 "nbformat": 4,
 "nbformat_minor": 5
}
